{
 "cells": [
  {
   "cell_type": "markdown",
   "metadata": {},
   "source": [
    "# Master data analysis\n",
    "## Import data\n",
    "Import the data of master students from 2007. Those data are storaged in a dict."
   ]
  },
  {
   "cell_type": "code",
   "execution_count": 1,
   "metadata": {
    "collapsed": false,
    "scrolled": true
   },
   "outputs": [],
   "source": [
    "import pandas as pd\n",
    "import numpy as np\n",
    "import glob as gl\n",
    "from ISA_api import get_all_student_list\n",
    "\n",
    "# Use ISA_api to crawl all the master data from 2007\n",
    "ms_students = get_all_student_list('master')"
   ]
  },
  {
   "cell_type": "code",
   "execution_count": 2,
   "metadata": {
    "collapsed": false
   },
   "outputs": [
    {
     "data": {
      "text/plain": [
       "{'gender': 'Monsieur',\n",
       " 'minor': '',\n",
       " 'name': 'Aeberhard François-Xavier',\n",
       " 'sciper': '153066',\n",
       " 'specialization': '',\n",
       " 'status': 'Présent'}"
      ]
     },
     "execution_count": 2,
     "metadata": {},
     "output_type": "execute_result"
    }
   ],
   "source": [
    "ms_students['Informatique, 2007-2008, Master semestre 1'][0]"
   ]
  },
  {
   "cell_type": "markdown",
   "metadata": {},
   "source": [
    "## Obtain master student information dataframe\n",
    "This part converts dictionary 'ms_students' to a dataframe.\n",
    "\n",
    "Each row of the dataframe represents a record (one semester) of one student.\n",
    "The column of the dataframe is respectively = ['name','gender','year','master_type','sciper','specialization','minor','status'].\n",
    "\n",
    "Since our analysis focus on students who finish their full time of study between 2007-2016, the edge students, namely students who study in 2007-2008 but not as a fresh student, and students who study in 2016-2017 as a fresh student should not be considered, and thus should not be added to dataframe.\n"
   ]
  },
  {
   "cell_type": "code",
   "execution_count": 3,
   "metadata": {
    "collapsed": false
   },
   "outputs": [
    {
     "data": {
      "text/html": [
       "<div>\n",
       "<table border=\"1\" class=\"dataframe\">\n",
       "  <thead>\n",
       "    <tr style=\"text-align: right;\">\n",
       "      <th></th>\n",
       "      <th>name</th>\n",
       "      <th>gender</th>\n",
       "      <th>year</th>\n",
       "      <th>master_type</th>\n",
       "      <th>sciper</th>\n",
       "      <th>specialization</th>\n",
       "      <th>minor</th>\n",
       "      <th>status</th>\n",
       "    </tr>\n",
       "  </thead>\n",
       "  <tbody>\n",
       "    <tr>\n",
       "      <th>0</th>\n",
       "      <td>Aeberhard François-Xavier</td>\n",
       "      <td>Monsieur</td>\n",
       "      <td>2007-2008</td>\n",
       "      <td>Master semestre 1</td>\n",
       "      <td>153066</td>\n",
       "      <td></td>\n",
       "      <td></td>\n",
       "      <td>Présent</td>\n",
       "    </tr>\n",
       "    <tr>\n",
       "      <th>0</th>\n",
       "      <td>Aeberhard François-Xavier</td>\n",
       "      <td>Monsieur</td>\n",
       "      <td>2007-2008</td>\n",
       "      <td>Master semestre 2</td>\n",
       "      <td>153066</td>\n",
       "      <td></td>\n",
       "      <td></td>\n",
       "      <td>Présent</td>\n",
       "    </tr>\n",
       "    <tr>\n",
       "      <th>1</th>\n",
       "      <td>Agarwal Megha</td>\n",
       "      <td>Madame</td>\n",
       "      <td>2007-2008</td>\n",
       "      <td>Master semestre 1</td>\n",
       "      <td>180027</td>\n",
       "      <td></td>\n",
       "      <td></td>\n",
       "      <td>Présent</td>\n",
       "    </tr>\n",
       "    <tr>\n",
       "      <th>1</th>\n",
       "      <td>Agarwal Megha</td>\n",
       "      <td>Madame</td>\n",
       "      <td>2007-2008</td>\n",
       "      <td>Master semestre 2</td>\n",
       "      <td>180027</td>\n",
       "      <td></td>\n",
       "      <td></td>\n",
       "      <td>Présent</td>\n",
       "    </tr>\n",
       "    <tr>\n",
       "      <th>2</th>\n",
       "      <td>Anagnostaras David</td>\n",
       "      <td>Monsieur</td>\n",
       "      <td>2007-2008</td>\n",
       "      <td>Master semestre 1</td>\n",
       "      <td>152232</td>\n",
       "      <td></td>\n",
       "      <td></td>\n",
       "      <td>Présent</td>\n",
       "    </tr>\n",
       "  </tbody>\n",
       "</table>\n",
       "</div>"
      ],
      "text/plain": [
       "                        name    gender       year        master_type  sciper  \\\n",
       "0  Aeberhard François-Xavier  Monsieur  2007-2008  Master semestre 1  153066   \n",
       "0  Aeberhard François-Xavier  Monsieur  2007-2008  Master semestre 2  153066   \n",
       "1              Agarwal Megha    Madame  2007-2008  Master semestre 1  180027   \n",
       "1              Agarwal Megha    Madame  2007-2008  Master semestre 2  180027   \n",
       "2         Anagnostaras David  Monsieur  2007-2008  Master semestre 1  152232   \n",
       "\n",
       "  specialization minor   status  \n",
       "0                       Présent  \n",
       "0                       Présent  \n",
       "1                       Présent  \n",
       "1                       Présent  \n",
       "2                       Présent  "
      ]
     },
     "execution_count": 3,
     "metadata": {},
     "output_type": "execute_result"
    }
   ],
   "source": [
    "master = []\n",
    "# iterate dictionary to construct an information dataframe.\n",
    "for semester,info in ms_students.items():\n",
    "    #Dataframe for current iterating semester.\n",
    "    df = pd.DataFrame(info)\n",
    "    #split keys into features of faculty, year, master_type\n",
    "    _, year, master_type = semester.split(', ')\n",
    "    #add feature master_type and year to dataframe\n",
    "    df['master_type'] = master_type\n",
    "    df['year'] = year\n",
    "    #Deal with data in border\n",
    "    #For data in 2007-2008, only append those who begin their study at that year.\n",
    "    if (year == '2007-2008' and ):\n",
    "        if (master_type in ['Master semestre 1','Master semestre 2']):\n",
    "            master.append(df)\n",
    "    #For data in 2016-2017, only append those who do not begin their study at that year.\n",
    "    elif (year == '2016-2017'):\n",
    "        if (master_type not in ['Master semestre 1']):\n",
    "            master.append(df)\n",
    "    else :\n",
    "        master.append(df)\n",
    "masterDf = pd.concat(master)\n",
    "# Reindex column and sort dataframe\n",
    "masterDf = masterDf[['name','gender','year','master_type','sciper','specialization','minor','status']]\n",
    "masterDf = masterDf.sort_values(by = ['year','name','master_type'])\n",
    "masterDf.head()"
   ]
  },
  {
   "cell_type": "markdown",
   "metadata": {},
   "source": [
    "## Average stay computation rules and algorithm\n",
    "Compute average stay for EPFL IN master students using data above.\n",
    "Due to the huge mess of master data, after observing data itself and asking senior students for the real cases,\n",
    "we assume some rules below to calculate the stay time of one student:\n",
    "\n",
    "1. Concerns with 'Admission automne': If a student starts with master semester 2, but does not appear in 2007-2008, that might be because there is a admission automn semester before MA2 (and this is mostly the case with abnormal data in 2015-2016), so we manually add one semester to MA1. But if this happens in 2007-2008, this might due to the data reaches one of its borders, and in this case we just remove these students from valid dataset.\n",
    "\n",
    "2. Concerns with students who didn't finish their studies: After applying first rule, if the record of a student is still smaller than 2, then either his missing rate is high or he didn't finish study at all. Then we just remove these students from valid dataset.\n",
    "\n",
    "3. Concerns with 'Project master': Most students in ISA didn't show in project master semester due to missing data. To evaluate their stay time, we need to manually add one semester for:\n",
    "    * Students whose last semesters are before 2015-2016 without project semester;\n",
    "    * Students whose last semesters are in 2015-2016 or 2016-2017 and their stay time are more that 2 semesters; but if their stay time are fewer than 2 semesters, we are not sure about what he/she is doing this semester and we remove them from valid dataset.\n",
    "\n",
    "4. After applying rule 1,2,3 to master data, if the number of semester >= 3 semester, then we consider this data record to be a complete study process, otherwise we don't include it in the data used to calculate average stay."
   ]
  },
  {
   "cell_type": "code",
   "execution_count": 14,
   "metadata": {
    "collapsed": false
   },
   "outputs": [
    {
     "data": {
      "text/html": [
       "<div>\n",
       "<table border=\"1\" class=\"dataframe\">\n",
       "  <thead>\n",
       "    <tr style=\"text-align: right;\">\n",
       "      <th></th>\n",
       "      <th>name</th>\n",
       "      <th>time</th>\n",
       "      <th>matriculation year</th>\n",
       "    </tr>\n",
       "  </thead>\n",
       "  <tbody>\n",
       "    <tr>\n",
       "      <th>2</th>\n",
       "      <td>Aeberhard François-Xavier</td>\n",
       "      <td>42.0</td>\n",
       "      <td>2007-2008</td>\n",
       "    </tr>\n",
       "    <tr>\n",
       "      <th>3</th>\n",
       "      <td>Agarwal Megha</td>\n",
       "      <td>18.0</td>\n",
       "      <td>2007-2008</td>\n",
       "    </tr>\n",
       "    <tr>\n",
       "      <th>8</th>\n",
       "      <td>Anagnostaras David</td>\n",
       "      <td>24.0</td>\n",
       "      <td>2007-2008</td>\n",
       "    </tr>\n",
       "    <tr>\n",
       "      <th>23</th>\n",
       "      <td>Auroux Damien</td>\n",
       "      <td>24.0</td>\n",
       "      <td>2007-2008</td>\n",
       "    </tr>\n",
       "    <tr>\n",
       "      <th>24</th>\n",
       "      <td>Awalebo Joseph</td>\n",
       "      <td>24.0</td>\n",
       "      <td>2007-2008</td>\n",
       "    </tr>\n",
       "  </tbody>\n",
       "</table>\n",
       "</div>"
      ],
      "text/plain": [
       "                         name  time matriculation year\n",
       "2   Aeberhard François-Xavier  42.0          2007-2008\n",
       "3               Agarwal Megha  18.0          2007-2008\n",
       "8          Anagnostaras David  24.0          2007-2008\n",
       "23              Auroux Damien  24.0          2007-2008\n",
       "24             Awalebo Joseph  24.0          2007-2008"
      ]
     },
     "execution_count": 14,
     "metadata": {},
     "output_type": "execute_result"
    }
   ],
   "source": [
    "# Calculate the time a master student spent to graduate.\n",
    "# Define studyTime dataframe to record the stay time and matriculation year of a student.\n",
    "studyTime = pd.DataFrame()\n",
    "groupedByName = masterDf.groupby(['name'])\n",
    "for name,info in groupedByName:\n",
    "    info = info.sort_values(by = ['year','master_type'])\n",
    "    #Record number of semester stay\n",
    "    time_sem = len(info)\n",
    "   \n",
    "    # Rule 1 : Concerns with 'Admission automne'\n",
    "    if ((info.iloc[0].master_type == ('Master semestre 2')) & (info.iloc[0].year != '2007-2008')) :\n",
    "        time_sem += 1\n",
    "\n",
    "    #Store the matriculation year for bonus task.\n",
    "    matriYear = info.iloc[0].year\n",
    "    #Rule 2: Concerns with students who didn't finish study\n",
    "    if (time_sem >= 2):\n",
    "        #Rule 3: Concerns with 'Project master'\n",
    "        if (info.iloc[-1].master_type not in ['Projet Master automne','Projet Master printemps']):\n",
    "            if info.iloc[-1].year == '2015-2016':\n",
    "                if (time_sem != 2):\n",
    "                    time_sem += 1\n",
    "            else:\n",
    "                if info.iloc[-1].year != '2016-2017':\n",
    "                    time_sem += 1\n",
    "                else :\n",
    "                    time_sem = -1\n",
    "    #Rule 4 : Record only those who spent more than 3 semester in EPFL\n",
    "    if (time_sem >= 3):\n",
    "        time_month = time_sem * 6\n",
    "        studyTime = studyTime.append({'name':name,'time':time_month,'matriculation year':matriYear},ignore_index=True)\n",
    "studyTime = studyTime[['name','time','matriculation year']].sort_values(by = ['matriculation year','name'])\n",
    "studyTime.head()"
   ]
  },
  {
   "cell_type": "markdown",
   "metadata": {},
   "source": [
    "## Task 1: Compute average stay of EPFL IN masster students.\n",
    "\n",
    "Use describe function to see statistics attributes of studyTime dataFrame.\n",
    "And find the average stay of EPFL IN master student after 2007 is 25.6 month.\n"
   ]
  },
  {
   "cell_type": "code",
   "execution_count": 15,
   "metadata": {
    "collapsed": false
   },
   "outputs": [
    {
     "data": {
      "text/html": [
       "<div>\n",
       "<table border=\"1\" class=\"dataframe\">\n",
       "  <thead>\n",
       "    <tr style=\"text-align: right;\">\n",
       "      <th></th>\n",
       "      <th>time</th>\n",
       "    </tr>\n",
       "  </thead>\n",
       "  <tbody>\n",
       "    <tr>\n",
       "      <th>count</th>\n",
       "      <td>640.000000</td>\n",
       "    </tr>\n",
       "    <tr>\n",
       "      <th>mean</th>\n",
       "      <td>25.603125</td>\n",
       "    </tr>\n",
       "    <tr>\n",
       "      <th>std</th>\n",
       "      <td>5.954338</td>\n",
       "    </tr>\n",
       "    <tr>\n",
       "      <th>min</th>\n",
       "      <td>18.000000</td>\n",
       "    </tr>\n",
       "    <tr>\n",
       "      <th>25%</th>\n",
       "      <td>24.000000</td>\n",
       "    </tr>\n",
       "    <tr>\n",
       "      <th>50%</th>\n",
       "      <td>24.000000</td>\n",
       "    </tr>\n",
       "    <tr>\n",
       "      <th>75%</th>\n",
       "      <td>30.000000</td>\n",
       "    </tr>\n",
       "    <tr>\n",
       "      <th>max</th>\n",
       "      <td>48.000000</td>\n",
       "    </tr>\n",
       "  </tbody>\n",
       "</table>\n",
       "</div>"
      ],
      "text/plain": [
       "             time\n",
       "count  640.000000\n",
       "mean    25.603125\n",
       "std      5.954338\n",
       "min     18.000000\n",
       "25%     24.000000\n",
       "50%     24.000000\n",
       "75%     30.000000\n",
       "max     48.000000"
      ]
     },
     "execution_count": 15,
     "metadata": {},
     "output_type": "execute_result"
    }
   ],
   "source": [
    "studyTime.describe()"
   ]
  },
  {
   "cell_type": "markdown",
   "metadata": {},
   "source": [
    "Join timeinfo dataframe to the master studet dataframe we get at first."
   ]
  },
  {
   "cell_type": "code",
   "execution_count": 6,
   "metadata": {
    "collapsed": false
   },
   "outputs": [
    {
     "data": {
      "text/html": [
       "<div>\n",
       "<table border=\"1\" class=\"dataframe\">\n",
       "  <thead>\n",
       "    <tr style=\"text-align: right;\">\n",
       "      <th></th>\n",
       "      <th>name</th>\n",
       "      <th>gender</th>\n",
       "      <th>year</th>\n",
       "      <th>master_type</th>\n",
       "      <th>sciper</th>\n",
       "      <th>specialization</th>\n",
       "      <th>minor</th>\n",
       "      <th>status</th>\n",
       "      <th>time</th>\n",
       "      <th>matriculation year</th>\n",
       "    </tr>\n",
       "  </thead>\n",
       "  <tbody>\n",
       "    <tr>\n",
       "      <th>0</th>\n",
       "      <td>Aeberhard François-Xavier</td>\n",
       "      <td>Monsieur</td>\n",
       "      <td>2007-2008</td>\n",
       "      <td>Master semestre 1</td>\n",
       "      <td>153066</td>\n",
       "      <td></td>\n",
       "      <td></td>\n",
       "      <td>Présent</td>\n",
       "      <td>42.0</td>\n",
       "      <td>2007-2008</td>\n",
       "    </tr>\n",
       "    <tr>\n",
       "      <th>1</th>\n",
       "      <td>Aeberhard François-Xavier</td>\n",
       "      <td>Monsieur</td>\n",
       "      <td>2007-2008</td>\n",
       "      <td>Master semestre 2</td>\n",
       "      <td>153066</td>\n",
       "      <td></td>\n",
       "      <td></td>\n",
       "      <td>Présent</td>\n",
       "      <td>42.0</td>\n",
       "      <td>2007-2008</td>\n",
       "    </tr>\n",
       "    <tr>\n",
       "      <th>2</th>\n",
       "      <td>Aeberhard François-Xavier</td>\n",
       "      <td>Monsieur</td>\n",
       "      <td>2008-2009</td>\n",
       "      <td>Master semestre 2</td>\n",
       "      <td>153066</td>\n",
       "      <td></td>\n",
       "      <td></td>\n",
       "      <td>Stage</td>\n",
       "      <td>42.0</td>\n",
       "      <td>2007-2008</td>\n",
       "    </tr>\n",
       "    <tr>\n",
       "      <th>3</th>\n",
       "      <td>Aeberhard François-Xavier</td>\n",
       "      <td>Monsieur</td>\n",
       "      <td>2008-2009</td>\n",
       "      <td>Master semestre 3</td>\n",
       "      <td>153066</td>\n",
       "      <td></td>\n",
       "      <td></td>\n",
       "      <td>Présent</td>\n",
       "      <td>42.0</td>\n",
       "      <td>2007-2008</td>\n",
       "    </tr>\n",
       "    <tr>\n",
       "      <th>4</th>\n",
       "      <td>Aeberhard François-Xavier</td>\n",
       "      <td>Monsieur</td>\n",
       "      <td>2009-2010</td>\n",
       "      <td>Master semestre 2</td>\n",
       "      <td>153066</td>\n",
       "      <td>Internet computing</td>\n",
       "      <td></td>\n",
       "      <td>Présent</td>\n",
       "      <td>42.0</td>\n",
       "      <td>2007-2008</td>\n",
       "    </tr>\n",
       "  </tbody>\n",
       "</table>\n",
       "</div>"
      ],
      "text/plain": [
       "                        name    gender       year        master_type  sciper  \\\n",
       "0  Aeberhard François-Xavier  Monsieur  2007-2008  Master semestre 1  153066   \n",
       "1  Aeberhard François-Xavier  Monsieur  2007-2008  Master semestre 2  153066   \n",
       "2  Aeberhard François-Xavier  Monsieur  2008-2009  Master semestre 2  153066   \n",
       "3  Aeberhard François-Xavier  Monsieur  2008-2009  Master semestre 3  153066   \n",
       "4  Aeberhard François-Xavier  Monsieur  2009-2010  Master semestre 2  153066   \n",
       "\n",
       "       specialization minor   status  time matriculation year  \n",
       "0                            Présent  42.0          2007-2008  \n",
       "1                            Présent  42.0          2007-2008  \n",
       "2                              Stage  42.0          2007-2008  \n",
       "3                            Présent  42.0          2007-2008  \n",
       "4  Internet computing        Présent  42.0          2007-2008  "
      ]
     },
     "execution_count": 6,
     "metadata": {},
     "output_type": "execute_result"
    }
   ],
   "source": [
    "masterDfWithTime = pd.merge(masterDf,studyTime)\n",
    "masterDfWithTime.head()"
   ]
  },
  {
   "cell_type": "markdown",
   "metadata": {},
   "source": [
    "## Task 2 Gender based analysis.\n",
    "\n",
    "Calculate average stays by gender and test the significance of difference between them.\n",
    "\n",
    "Here, since the female student data and male student data can be seen as two unpaired sample with unequal size and unequal variance, we should use welch t test for our hypothesis test. \n",
    "\n",
    "**Our null hypothesis is their average time has no significant difference. **"
   ]
  },
  {
   "cell_type": "code",
   "execution_count": 7,
   "metadata": {
    "collapsed": false
   },
   "outputs": [
    {
     "name": "stdout",
     "output_type": "stream",
     "text": [
      "               time\n",
      "gender             \n",
      "Madame    25.704545\n",
      "Monsieur  25.586957\n",
      "The difference between the mean graduation time of female and male is not significant\n"
     ]
    },
    {
     "data": {
      "image/png": "[encoded data removed]",
      "text/plain": [
       "<matplotlib.figure.Figure at 0x1176d0fd0>"
      ]
     },
     "metadata": {},
     "output_type": "display_data"
    }
   ],
   "source": [
    "from scipy import stats\n",
    "%matplotlib inline\n",
    "import matplotlib.pyplot as plt\n",
    "\n",
    "# Select name,gender and time row from original dataframe and drop the duplicate information.\n",
    "dfGender = masterDfWithTime[['name','gender','time']]\n",
    "dfGender = dfGender.drop_duplicates()\n",
    "# Group data by gender.\n",
    "groupByGender = dfGender.groupby(['gender'])\n",
    "# Calculae average stay by gender group\n",
    "print(groupByGender.apply(np.mean))\n",
    "groupByGender.apply(np.mean).plot.bar()\n",
    "# Apply welch t test to two groups.\n",
    "t, p = stats.ttest_ind(groupByGender.get_group('Monsieur').time,groupByGender.get_group('Madame').time,equal_var=False,)\n",
    "\n",
    "if (p < 0.05):\n",
    "    print('The difference between the mean graduation time of female and male is significant')\n",
    "else:\n",
    "    print('The difference between the mean graduation time of female and male is not significant')"
   ]
  },
  {
   "cell_type": "markdown",
   "metadata": {},
   "source": [
    "## Task 3: Specilization based analysis\n",
    "\n",
    "Apply same analysis to different specializations. Calculate the average stay of students with different specializations.\n",
    "\n",
    "To measure the differences between average stay of each specialization category and average stay of all  specializations, we should do a single-sample t test to each specialization group respectively."
   ]
  },
  {
   "cell_type": "code",
   "execution_count": 8,
   "metadata": {
    "collapsed": false
   },
   "outputs": [
    {
     "name": "stdout",
     "output_type": "stream",
     "text": [
      "Average stay of students with specialization is 28.83076923076923 months\n",
      "                                     time      \n",
      "                                     mean count\n",
      "specialization                                 \n",
      "Biocomputing                    30.000000     4\n",
      "Computer Engineering - SP       26.571429    14\n",
      "Foundations of Software         28.867925    53\n",
      "Information Security - SP       30.000000     2\n",
      "Internet computing              28.609756    82\n",
      "Service science                 27.600000     5\n",
      "Signals, Images and Interfaces  30.960000    25\n",
      "Software Systems                28.200000    10\n",
      "Average stay of Computer Engineering - SP students is significantly different\n",
      "Average stay of Information Security - SP students is significantly different\n"
     ]
    },
    {
     "data": {
      "image/png": "[encoded data removed]",
      "text/plain": [
       "<matplotlib.figure.Figure at 0x117773208>"
      ]
     },
     "metadata": {},
     "output_type": "display_data"
    }
   ],
   "source": [
    "# Select name,gender and time row from original dataframe.\n",
    "# Drop the student withou specialization and also drop the duplicate information.\n",
    "dfSpeci = masterDfWithTime[['name','specialization','time']]\n",
    "dfSpeci = dfSpeci[dfSpeci.specialization != '']\n",
    "dfSpeci = dfSpeci.drop_duplicates()\n",
    "# Calculate the average stay of all students with specialization\n",
    "meanAllSpeci = dfSpeci.time.mean()\n",
    "print('Average stay of students with specialization is ' + str(meanAllSpeci) + ' months')\n",
    "# Group student by specialization\n",
    "speciGroup = dfSpeci.groupby('specialization')\n",
    "# Count numbers in each group and calcualte average time, plot the bar.\n",
    "print(speciGroup.agg(['mean','count']))\n",
    "speciGroup.apply(np.mean).plot.bar()\n",
    "# Apply 1-sample t test for each group.\n",
    "for speci,timeInfo in speciGroup:\n",
    "    t, p = stats.ttest_1samp(timeInfo.time,meanAllSpeci)\n",
    "    if (p < 0.05):\n",
    "        print('Average stay of ' + speci + ' students is significantly different')"
   ]
  },
  {
   "cell_type": "markdown",
   "metadata": {
    "collapsed": true
   },
   "source": [
    "### Abnormal phenomena explanation:\n",
    "\n",
    "From results above, it can be seen that although speicialization 'information security - sp' doesn't have higher average stay compared to others, it is labeled as signicantly difference due to small sample. Therefore, it only makes sense when the sample size reach certain number."
   ]
  },
  {
   "cell_type": "markdown",
   "metadata": {},
   "source": [
    "## Task 4  Plot the trends of result over time\n",
    "\n",
    "Use scatterplots to visually identify changes over time. Plot males and females with different colors -- can you spot different trends that match the results of your statistical tests?"
   ]
  },
  {
   "cell_type": "markdown",
   "metadata": {},
   "source": [
    "Since pandas can only plot scatter chart with two numerical columns, we add one int column, year, to indicate a student's matriculation year. Then we plot all students' stay time in a scatter chart, with male students being blue dots and female students red dots."
   ]
  },
  {
   "cell_type": "code",
   "execution_count": 141,
   "metadata": {
    "collapsed": false
   },
   "outputs": [
    {
     "data": {
      "text/plain": [
       "(2006, 2016)"
      ]
     },
     "execution_count": 141,
     "metadata": {},
     "output_type": "execute_result"
    },
    {
     "data": {
      "image/png": "[encoded data removed]",
      "text/plain": [
       "<matplotlib.figure.Figure at 0x114b24d30>"
      ]
     },
     "metadata": {},
     "output_type": "display_data"
    }
   ],
   "source": [
    "dfGenderMatri = masterDfWithTime[['name','gender','time','matriculation year']].drop_duplicates()\n",
    "dfGenderMatri['year'] = dfGenderMatri['matriculation year'].apply(lambda x: x.split('-')[0]).astype('int')\n",
    "\n",
    "fig, ax = plt.subplots()\n",
    "ax.margins(0.05)\n",
    "COLOR = {'Monsieur': 'blue', 'Madame': 'red'}\n",
    "for name, group in dfGenderMatri.groupby('gender'):\n",
    "    ax.scatter(x=group.year, y=group.time, color=COLOR[name], alpha=0.1)\n",
    "plt.xlim(xmin=2006, xmax=2016)"
   ]
  },
  {
   "cell_type": "markdown",
   "metadata": {},
   "source": [
    "Although we add some opacity to our colors, which illustrates that darker color indicates more people are at the same coordinate, this chart isn't intuitive at all for the fact that too many students' data points overlap. (Purple dots are generated due to overlap between red and blue.) So we consider to draw another scatter chart of average stays between females and males."
   ]
  },
  {
   "cell_type": "code",
   "execution_count": 142,
   "metadata": {
    "collapsed": false
   },
   "outputs": [
    {
     "data": {
      "text/plain": [
       "(2006, 2016)"
      ]
     },
     "execution_count": 142,
     "metadata": {},
     "output_type": "execute_result"
    },
    {
     "data": {
      "image/png": "[encoded data removed]",
      "text/plain": [
       "<matplotlib.figure.Figure at 0x114b1fb38>"
      ]
     },
     "metadata": {},
     "output_type": "display_data"
    }
   ],
   "source": [
    "mean_groups = dfGenderMatri.groupby(['gender', 'matriculation year']).agg({'time': 'mean'})\n",
    "re_mean_groups = mean_groups.reset_index()\n",
    "re_mean_groups['year'] = re_mean_groups['matriculation year'].apply(lambda x: x.split('-')[0]).astype('int')\n",
    "\n",
    "fig, ax = plt.subplots()\n",
    "ax.margins(0.05)\n",
    "COLOR = {'Monsieur': 'blue', 'Madame': 'red'}\n",
    "for name, group in re_mean_groups.groupby('gender'):\n",
    "    ax.scatter(x=group.year, y=group.time, color=COLOR[name])\n",
    "plt.xlim(xmin=2006, xmax=2016)"
   ]
  },
  {
   "cell_type": "markdown",
   "metadata": {},
   "source": [
    "We can ituitively tell from the scatter chart that the differences between females and males are not that significant, except for year 2007 and 2008. However, as described in task 1, there's no significant difference if the data of year 2007 and 2008 are blended with all other data."
   ]
  },
  {
   "cell_type": "code",
   "execution_count": null,
   "metadata": {
    "collapsed": true
   },
   "outputs": [],
   "source": []
  }
 ],
 "metadata": {
  "anaconda-cloud": {},
  "kernelspec": {
   "display_name": "Python [default]",
   "language": "python",
   "name": "python3"
  },
  "language_info": {
   "codemirror_mode": {
    "name": "ipython",
    "version": 3
   },
   "file_extension": ".py",
   "mimetype": "text/x-python",
   "name": "python",
   "nbconvert_exporter": "python",
   "pygments_lexer": "ipython3",
   "version": "3.5.2"
  }
 },
 "nbformat": 4,
 "nbformat_minor": 1
}
