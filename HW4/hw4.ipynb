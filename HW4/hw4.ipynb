{
 "cells": [
  {
   "cell_type": "markdown",
   "metadata": {},
   "source": [
    "# 1. Task 1\n",
    "\n",
    "In this task, we decided to consider it to be a binary classification problem, i.e. predict if the given player is a dark skin person or a light skin one. We separated the range of skintone ([0, 1]) equally to get two classes."
   ]
  },
  {
   "cell_type": "markdown",
   "metadata": {},
   "source": [
    "## 1.1 Basic procedures\n",
    "Import some library classes and data"
   ]
  },
  {
   "cell_type": "code",
   "execution_count": 2,
   "metadata": {
    "collapsed": true
   },
   "outputs": [],
   "source": [
    "%matplotlib inline\n",
    "\n",
    "import pandas as pd\n",
    "import numpy as np\n",
    "import matplotlib.pyplot as plt\n",
    "from sklearn.ensemble import RandomForestClassifier\n",
    "from sklearn.pipeline import Pipeline\n",
    "from sklearn.preprocessing import Imputer, StandardScaler\n",
    "from sklearn.model_selection import GridSearchCV, GroupShuffleSplit, ShuffleSplit\n",
    "from sklearn.model_selection import train_test_split, cross_val_score\n",
    "from sklearn.cluster import KMeans, DBSCAN, MiniBatchKMeans\n",
    "from sklearn.metrics import silhouette_score\n",
    "\n",
    "\n",
    "data = pd.read_csv('CrowdstormingDataJuly1st.csv', quotechar='\"')"
   ]
  },
  {
   "cell_type": "markdown",
   "metadata": {},
   "source": [
    "## 1.2 First Model for Task 1\n",
    "### 1.2.1 Data prepocessing\n",
    "Here we describe the first assumption we give on data.\n",
    "To produce the feature matrix, we did the following convertions:\n",
    "\n",
    "1. use the mean of rater1 and rater2 as the target skintone\n",
    "2. map club, league, position and group columns into integer numbers\n",
    "3. get ages of players from the column birthday\n",
    "\n",
    "**Note:** Here we map the playerShort to a categorical variable and get its codes for further use, because we don't want the same player appear in both train and test dataset. The classifier would otherwise match train and test data of the same player, in which case we would see super high accuracy around 99%, which however is not accurate at all. In that case, we are only searching the same person in test dataset rather than predicting. We also prove this below."
   ]
  },
  {
   "cell_type": "code",
   "execution_count": 25,
   "metadata": {
    "collapsed": true
   },
   "outputs": [],
   "source": [
    "def get_numeric_features(data, features, new_feat=None):\n",
    "    \"\"\"\n",
    "    Params:\n",
    "        features(list): requested feature columns\n",
    "        \n",
    "    Return:\n",
    "        x(list): feature matrix\n",
    "        y(list): target variable list\n",
    "        g(list): group code of each player\n",
    "    \"\"\"\n",
    "    # get targe variable  \n",
    "    data.dropna(subset=['rater1', 'rater2'], inplace=True)\n",
    "    mean_rate = (data['rater1'] + data['rater2']) / 2\n",
    "    data['skintone'] = mean_rate > 0.5\n",
    "    data['skintone'] = data['skintone'].astype('int')\n",
    "    # map categorical variables to codes\n",
    "    data['club'] = data['club'].astype('category').cat.codes\n",
    "    data['league'] = data['leagueCountry'].astype('category').cat.codes\n",
    "    data['position'] = data['position'].astype('category').cat.codes\n",
    "    data['group'] = data['playerShort'].astype('category').cat.codes\n",
    "    # generate age feature\n",
    "    data['age'] = 2016 - data['birthday'].str.rsplit('.', 1, True)[1].astype('int')\n",
    "    \n",
    "    # add new features\n",
    "    if new_feat is not None:\n",
    "        data = pd.concat([data, new_feat], axis=1)\n",
    "\n",
    "    # choose desired features only\n",
    "    x = data[features]\n",
    "    y = data['skintone']\n",
    "    g = data['group']\n",
    "\n",
    "    return x, y, g"
   ]
  },
  {
   "cell_type": "markdown",
   "metadata": {},
   "source": [
    "The following two functions are used to draw a chart showing train and test scores to see overfitting"
   ]
  },
  {
   "cell_type": "code",
   "execution_count": 46,
   "metadata": {
    "collapsed": true
   },
   "outputs": [],
   "source": [
    "def draw_cv(train, test, x, x_label):\n",
    "    plt.plot(x, train, 'b-')\n",
    "    plt.plot(x, test, 'r-')\n",
    "    ax = plt.gca()\n",
    "    top = max(np.max(train), np.max(test))\n",
    "    bottom = min(np.min(train), np.min(test))\n",
    "    margin = (top - bottom) * 0.1\n",
    "    ax.set_ylim(bottom=bottom+margin, top=top+margin)\n",
    "    plt.xlabel(x_label)\n",
    "    plt.ylabel('error')\n",
    "    plt.title('visualization')\n",
    "    plt.show()\n",
    "\n",
    "\n",
    "def get_train_test_score(res, params):\n",
    "    res_pd = pd.DataFrame(res)\n",
    "    temp = res_pd\n",
    "    for k, v in params.items():\n",
    "        temp = temp[temp[k] == v]\n",
    "    train = temp[[col for col in temp.columns \n",
    "                  if 'train' in col and 'mean' not in col and 'std' not in col]]\n",
    "    test = temp[[col for col in temp.columns \n",
    "                 if 'test' in col and 'mean' not in col and 'std' not in col and 'rank' not in col]]\n",
    "    return train.mean(axis=1).tolist(), test.mean(axis=1).tolist()"
   ]
  },
  {
   "cell_type": "markdown",
   "metadata": {},
   "source": [
    "### 1.2.2 Model Selection and Parameter Tuning\n",
    "Here, we build a pipeline to do cross validation to find the best model and paramters. We can also see the train scores and test scores in the meantime.\n",
    "\n",
    "We first set two paramters of `RandomForestClassifier`, n_estimators and max_features, to be `[i for i in range(1, 10)]` and `['auto', 'sqrt', 'log2']` respectively, and then run the grid search cross validation on the classifier with each pair of the two parameters."
   ]
  },
  {
   "cell_type": "code",
   "execution_count": 27,
   "metadata": {
    "collapsed": false
   },
   "outputs": [],
   "source": [
    "# parameters of RandomForestClassifier to be tested\n",
    "params={\n",
    "    'rf__n_estimators': [i for i in range(1, 10)],\n",
    "    'rf__max_features': ['sqrt', 'log2', None],\n",
    "}\n",
    "\n",
    "pipe = Pipeline([\n",
    "         ('replace', Imputer(strategy='median')),  # replace NaN value with median valuep\n",
    "         ('standardize', StandardScaler()),  # standardization \n",
    "         ('rf', RandomForestClassifier(n_jobs=-1))  # classification\n",
    "     ])\n",
    "\n",
    "# feature columns that we want to use\n",
    "all_features = [\n",
    "    'league', 'club', 'height', 'weight', 'age', 'position', \n",
    "    'games', 'victories', 'ties', 'defeats', 'goals', \n",
    "    'yellowCards', 'yellowReds', 'redCards', \n",
    "    'refNum', 'refCountry',\n",
    "    'meanIAT', 'nIAT', 'seIAT', 'meanExp', 'nExp', 'seExp'\n",
    "]\n",
    "\n",
    "x, y, groups = get_numeric_features(data, all_features)"
   ]
  },
  {
   "cell_type": "markdown",
   "metadata": {},
   "source": [
    "**Note:** We first use `ShuffleSplit`, which is supposed to used on i.i.d samples, to show how super accuracy is acquired."
   ]
  },
  {
   "cell_type": "code",
   "execution_count": 28,
   "metadata": {
    "collapsed": false
   },
   "outputs": [
    {
     "data": {
      "text/plain": [
       "GridSearchCV(cv=ShuffleSplit(n_splits=20, random_state=None, test_size=0.2, train_size=0.8),\n",
       "       error_score='raise',\n",
       "       estimator=Pipeline(steps=[('replace', Imputer(axis=0, copy=True, missing_values='NaN', strategy='median', verbose=0)), ('standardize', StandardScaler(copy=True, with_mean=True, with_std=True)), ('rf', RandomForestClassifier(bootstrap=True, class_weight=None, criterion='gini',\n",
       "            max_depth=None, max_features='...mators=10, n_jobs=-1, oob_score=False, random_state=None,\n",
       "            verbose=0, warm_start=False))]),\n",
       "       fit_params={}, iid=True, n_jobs=-1,\n",
       "       param_grid={'rf__n_estimators': [1, 2, 3, 4, 5, 6, 7, 8, 9], 'rf__max_features': ['sqrt', 'log2', None]},\n",
       "       pre_dispatch='2*n_jobs', refit=True, return_train_score=True,\n",
       "       scoring=None, verbose=0)"
      ]
     },
     "execution_count": 28,
     "metadata": {},
     "output_type": "execute_result"
    }
   ],
   "source": [
    "# use GridSearchCV to do the cross valiation to find best parameter set\n",
    "gs_cv = GridSearchCV(pipe, params, n_jobs=-1,\n",
    "                    cv=ShuffleSplit(n_splits=20, test_size=0.2, train_size=0.8))\n",
    "gs_cv.fit(x, y, groups)"
   ]
  },
  {
   "cell_type": "markdown",
   "metadata": {},
   "source": [
    "We could observe that the **best cv_score is 0.9993**, which is contradict to our intuition."
   ]
  },
  {
   "cell_type": "code",
   "execution_count": 29,
   "metadata": {
    "collapsed": false
   },
   "outputs": [
    {
     "data": {
      "text/plain": [
       "(0.99924172517552656, {'rf__max_features': None, 'rf__n_estimators': 7})"
      ]
     },
     "execution_count": 29,
     "metadata": {},
     "output_type": "execute_result"
    }
   ],
   "source": [
    "gs_cv.best_score_, gs_cv.best_params_"
   ]
  },
  {
   "cell_type": "markdown",
   "metadata": {},
   "source": [
    "Then we noticed our samples **are not i.i.d samples**, and thus we choose to group the samples from the same players so as to eliminate such inaccuracy caused by matching the data of the same person."
   ]
  },
  {
   "cell_type": "code",
   "execution_count": 5,
   "metadata": {
    "collapsed": false
   },
   "outputs": [
    {
     "name": "stdout",
     "output_type": "stream",
     "text": [
      "Fitting 20 folds for each of 27 candidates, totalling 540 fits\n"
     ]
    },
    {
     "name": "stderr",
     "output_type": "stream",
     "text": [
      "[Parallel(n_jobs=-1)]: Done 152 tasks      | elapsed:   15.6s\n",
      "[Parallel(n_jobs=-1)]: Done 402 tasks      | elapsed:   42.3s\n",
      "[Parallel(n_jobs=-1)]: Done 540 out of 540 | elapsed:  1.3min finished\n"
     ]
    },
    {
     "data": {
      "text/plain": [
       "GridSearchCV(cv=GroupShuffleSplit(n_splits=20, random_state=None, test_size=0.2,\n",
       "         train_size=0.8),\n",
       "       error_score='raise',\n",
       "       estimator=Pipeline(steps=[('replace', Imputer(axis=0, copy=True, missing_values='NaN', strategy='median', verbose=0)), ('rf', RandomForestClassifier(bootstrap=True, class_weight=None, criterion='gini',\n",
       "            max_depth=None, max_features='auto', max_leaf_nodes=None,\n",
       "            min_impurity_spl...ators=10, n_jobs=-1, oob_score=False, random_state=None,\n",
       "            verbose=0, warm_start=False))]),\n",
       "       fit_params={}, iid=True, n_jobs=-1,\n",
       "       param_grid={'rf__n_estimators': [1, 2, 3, 4, 5, 6, 7, 8, 9], 'rf__max_features': ['sqrt', 'log2', None]},\n",
       "       pre_dispatch='2*n_jobs', refit=True, return_train_score=True,\n",
       "       scoring=None, verbose=1)"
      ]
     },
     "execution_count": 5,
     "metadata": {},
     "output_type": "execute_result"
    }
   ],
   "source": [
    "# use GridSearchCV to do the cross valiation to find best parameter set\n",
    "gs_cv = GridSearchCV(pipe, params, n_jobs=-1,verbose = 1,\n",
    "                    cv=GroupShuffleSplit(n_splits=20, test_size=0.2, train_size=0.8))\n",
    "gs_cv.fit(x, y, groups)"
   ]
  },
  {
   "cell_type": "markdown",
   "metadata": {},
   "source": [
    "### 1.2.3 Result\n",
    "Find the best score and the best parameter pair for the baseline.\n",
    "This time, we could observe the best cv score to be 0.8324"
   ]
  },
  {
   "cell_type": "code",
   "execution_count": 6,
   "metadata": {
    "collapsed": false
   },
   "outputs": [
    {
     "data": {
      "text/plain": [
       "(0.83307737157781125, {'rf__max_features': 'log2', 'rf__n_estimators': 8})"
      ]
     },
     "execution_count": 6,
     "metadata": {},
     "output_type": "execute_result"
    }
   ],
   "source": [
    "gs_cv.best_score_, gs_cv.best_params_"
   ]
  },
  {
   "cell_type": "markdown",
   "metadata": {},
   "source": [
    "We use the group of train scores and test scores whose `max_features` is set to `'log2'` and `n_estimators` is set to a range of list to show we are overfitting the dataset. "
   ]
  },
  {
   "cell_type": "code",
   "execution_count": 49,
   "metadata": {
    "collapsed": false
   },
   "outputs": [
    {
     "data": {
      "image/png": "[encoded data removed]",
      "text/plain": [
       "<matplotlib.figure.Figure at 0x7fc5e1c48b00>"
      ]
     },
     "metadata": {},
     "output_type": "display_data"
    }
   ],
   "source": [
    "res = gs_cv.cv_results_\n",
    "train, test = get_train_test_score(res, {'param_rf__max_features': 'log2'})\n",
    "draw_cv(train, test, [i for i in range(9)], 'n_estimators')"
   ]
  },
  {
   "cell_type": "markdown",
   "metadata": {},
   "source": [
    "After checking the feature importance of the best model, we found the most important features are `club`, `height`, `weight`. This is quite different from our second model, which we will show later."
   ]
  },
  {
   "cell_type": "code",
   "execution_count": 8,
   "metadata": {
    "collapsed": false
   },
   "outputs": [
    {
     "data": {
      "text/plain": [
       "array([ 0.05514466,  0.16076537,  0.16073984,  0.16375406,  0.14731064,\n",
       "        0.12033121,  0.01375923,  0.01257253,  0.00879998,  0.01033054,\n",
       "        0.01021429,  0.00748712,  0.00095123,  0.00095453,  0.0252033 ,\n",
       "        0.01421923,  0.02643653,  0.00938902,  0.01076509,  0.01921291,\n",
       "        0.00997936,  0.01167933])"
      ]
     },
     "execution_count": 8,
     "metadata": {},
     "output_type": "execute_result"
    }
   ],
   "source": [
    "gs_cv.best_estimator_.get_params()['rf'].feature_importances_"
   ]
  },
  {
   "cell_type": "markdown",
   "metadata": {},
   "source": [
    "## 1.3 Second Model for task1\n",
    "Since method above consists many redundant information, which makes the model training process very time-consuming. We decide to group the data by playerShort."
   ]
  },
  {
   "cell_type": "markdown",
   "metadata": {},
   "source": [
    "### 1.3.1 Data prepocessing\n",
    "To apply groupby, we should at first determine the aggregate function for each column(feature).\n",
    "According to characteristics of different features, we follow the aggregation rules below (the first three rules remain same as model):\n",
    "1. we use the mean of rater1 and rater2 as the target skintone\n",
    "2. map club, league, position and group columns into integer numbers\n",
    "3. get ages of players from the column birthday\n",
    "4. For features['skintone','club', 'height', 'weight', 'position', 'age'], we keep the original value of each player.\n",
    "5. For features['games','victories', 'ties', 'defeats', 'goals', 'yellowCards','yellowReds', 'redCards'], we sum the value of each player.\n",
    "6. For features ['mean_IAT','mean_Exp'], we calcualte the weighted means (with games) of each player, thus transform them into ['w_IAT','W_ExP']. ('w' denotes weighted)\n",
    "7. For features ['refNum', 'refCountry','nIAT', 'seIAT', 'nExp', 'seExp'], it doesn't make sense to aggregate them, so we discard these featues.  \n",
    "After applying these rules to groupby and aggregate function, we obatin a feature matrix with size of 1585*17."
   ]
  },
  {
   "cell_type": "code",
   "execution_count": 2,
   "metadata": {
    "collapsed": false
   },
   "outputs": [],
   "source": [
    "def get_x_y(data,new_feat=None):\n",
    "    \"\"\"\n",
    "    Params:\n",
    "        \n",
    "    Return:\n",
    "        x(list): feature matrix\n",
    "        y(list): target variable list\n",
    "    \"\"\"\n",
    "    # get targe variable  \n",
    "    data.dropna(subset=['rater1', 'rater2'], inplace=True)\n",
    "    mean_rate = (data['rater1'] + data['rater2']) / 2\n",
    "    data['skintone'] = mean_rate > 0.5\n",
    "    data['skintone'] = data['skintone'].astype('int')\n",
    "    # map categorical variables to codes\n",
    "    data['club'] = data['club'].astype('category').cat.codes\n",
    "    data['league'] = data['leagueCountry'].astype('category').cat.codes\n",
    "    data['position'] = data['position'].astype('category').cat.codes\n",
    "    # generate age feature\n",
    "    data['age'] = 2016 - data['birthday'].str.rsplit('.', 1, True)[1].astype('int')\n",
    "    data['w_IAT'] = data['games'] * data['meanIAT']\n",
    "    data['w_EXP'] = data['games'] * data['meanExp']\n",
    "    feature_ = ['skintone','club', 'height', 'weight', 'position', 'age',\n",
    "                'league','playerShort','games','victories', 'ties', \n",
    "                'defeats', 'goals', 'yellowCards','yellowReds', 'redCards', \n",
    "                'w_IAT', 'w_EXP']\n",
    "    x_group1 = data[feature_].ix[:,0:8].groupby(by='playerShort').agg(np.mean)\n",
    "    x_group2 = data[feature_].ix[:,7:18].groupby(by='playerShort').agg(np.sum)\n",
    "    x_group = pd.concat([x_group1,x_group2],axis = 1)\n",
    "    x_group.w_IAT = x_group.w_IAT / x_group.games\n",
    "    x_group.w_EXP = x_group.w_EXP / x_group.games\n",
    "    y = x_group.skintone\n",
    "    x = x_group.ix[:,1:17]\n",
    "    # add new features\n",
    "    if new_feat is not None:\n",
    "        data = pd.concat([data, new_feat], axis=1)\n",
    "    return x, y\n"
   ]
  },
  {
   "cell_type": "markdown",
   "metadata": {},
   "source": [
    "### 1.3.2 Model Selection and Parameter Tuning\n",
    "We still use pipeline to do model selection and parameter tuning. As a result of the reduction of data size due to groupby, we can test more random forest classifier parameters now.   \n",
    "We let the parameter set as the combination of different n_estimators, max_features and max_depths. Parameter n_estimators range from 5 to 25, parameter max_features range in  `['auto', 'sqrt', 'log2']` ,and parameter max_depth range from 5 to 25.  \n",
    "We then run the grid search cross validation on the classifier with each pair of the three parameters."
   ]
  },
  {
   "cell_type": "code",
   "execution_count": 22,
   "metadata": {
    "collapsed": false
   },
   "outputs": [],
   "source": [
    "# parameters of RandomForestClassifier to be tested\n",
    "params={\n",
    "    'rf__n_estimators': [i for i in range(5, 26)],\n",
    "    'rf__max_features': ['sqrt', 'log2', None],\n",
    "    'rf__max_depth': [i for i in range(5,26)]\n",
    "}\n",
    "\n",
    "pipe = Pipeline([\n",
    "         ('replace', Imputer(strategy='median')),  # replace NaN value with median valuep\n",
    "         ('rf', RandomForestClassifier(n_jobs=-1))  # classification\n",
    "     ])\n",
    "\n",
    "x_2, y_2 = get_x_y(data)"
   ]
  },
  {
   "cell_type": "code",
   "execution_count": 4,
   "metadata": {
    "collapsed": false
   },
   "outputs": [
    {
     "data": {
      "text/plain": [
       "GridSearchCV(cv=ShuffleSplit(n_splits=20, random_state=None, test_size=0.2, train_size=0.8),\n",
       "       error_score='raise',\n",
       "       estimator=Pipeline(steps=[('replace', Imputer(axis=0, copy=True, missing_values='NaN', strategy='median', verbose=0)), ('rf', RandomForestClassifier(bootstrap=True, class_weight=None, criterion='gini',\n",
       "            max_depth=None, max_features='auto', max_leaf_nodes=None,\n",
       "            min_impurity_spl...ators=10, n_jobs=-1, oob_score=False, random_state=None,\n",
       "            verbose=0, warm_start=False))]),\n",
       "       fit_params={}, iid=True, n_jobs=-1,\n",
       "       param_grid={'rf__max_depth': [5, 6, 7, 8, 9, 10, 11, 12, 13, 14, 15, 16, 17, 18, 19, 20, 21, 22, 23, 24, 25], 'rf__n_estimators': [5, 6, 7, 8, 9, 10, 11, 12, 13, 14, 15, 16, 17, 18, 19, 20, 21, 22, 23, 24, 25], 'rf__max_features': ['sqrt', 'log2', None]},\n",
       "       pre_dispatch='2*n_jobs', refit=True, return_train_score=True,\n",
       "       scoring=None, verbose=0)"
      ]
     },
     "execution_count": 4,
     "metadata": {},
     "output_type": "execute_result"
    }
   ],
   "source": [
    "# use GridSearchCV to do the cross valiation to find best parameter set\n",
    "gs_cv_2 = GridSearchCV(pipe, params, n_jobs=-1,\n",
    "                    cv=ShuffleSplit(n_splits=20, test_size=0.2, train_size=0.8))\n",
    "gs_cv_2.fit(x_2, y_2)"
   ]
  },
  {
   "cell_type": "markdown",
   "metadata": {},
   "source": [
    "### 1.3.3 Result\n",
    "We could observe that, this time, the **best cross validation score is 0.8497**, which improves a bit compared to the first model. **The best parameter set is  {'max_depth': 6, 'max_features': 'log2', 'n_estimators': 25}.**"
   ]
  },
  {
   "cell_type": "code",
   "execution_count": 5,
   "metadata": {
    "collapsed": false
   },
   "outputs": [
    {
     "data": {
      "text/plain": [
       "(0.84842271293375393,\n",
       " {'rf__max_depth': 21, 'rf__max_features': 'log2', 'rf__n_estimators': 25})"
      ]
     },
     "execution_count": 5,
     "metadata": {},
     "output_type": "execute_result"
    }
   ],
   "source": [
    "gs_cv_2.best_score_, gs_cv_2.best_params_"
   ]
  },
  {
   "cell_type": "markdown",
   "metadata": {},
   "source": [
    "We could also give the feature_importances. We find that **the most important features are 'weighted mean of IATscore' and 'weighted mean of Exp score', while the least important features are 'yellowReds' and 'redCards' **"
   ]
  },
  {
   "cell_type": "code",
   "execution_count": 6,
   "metadata": {
    "collapsed": false
   },
   "outputs": [
    {
     "data": {
      "text/plain": [
       "array([ 0.06672991,  0.05214417,  0.05665237,  0.0411245 ,  0.04477985,\n",
       "        0.0578409 ,  0.06585295,  0.07985616,  0.05489152,  0.06987497,\n",
       "        0.07734497,  0.06031401,  0.02388019,  0.02271411,  0.12232772,\n",
       "        0.10367171])"
      ]
     },
     "execution_count": 6,
     "metadata": {},
     "output_type": "execute_result"
    }
   ],
   "source": [
    "f_importance_2 = gs_cv_2.best_estimator_.get_params()['rf'].feature_importances_\n",
    "f_importance_2"
   ]
  },
  {
   "cell_type": "code",
   "execution_count": 7,
   "metadata": {
    "collapsed": false
   },
   "outputs": [
    {
     "data": {
      "image/png": "[encoded data removed]",
      "text/plain": [
       "<matplotlib.figure.Figure at 0x7f29fa420748>"
      ]
     },
     "metadata": {},
     "output_type": "display_data"
    }
   ],
   "source": [
    "f_label = ['club', 'height', 'weight', 'position', 'age',\n",
    "                'league','games','victories', 'ties', \n",
    "                'defeats', 'goals', 'yellow','yellowReds', 'red', \n",
    "                'w_IAT', 'w_EXP']\n",
    "\n",
    "fig, axes = plt.subplots(nrows=1, ncols=1,figsize=(12,4))\n",
    "\n",
    "plt.bar(range(len(f_importance_2)), f_importance_2, align=\"center\")\n",
    "plt.xticks(range(len(f_importance_2)),f_label, color='black')\n",
    "\n",
    "fig.tight_layout()\n",
    "plt.show()"
   ]
  },
  {
   "cell_type": "markdown",
   "metadata": {},
   "source": [
    "### 1.3.4 Comparisons between different classifier parameter sets.  (BONUS)\n",
    "According to the result of gridsearchCV, we could compare different classifier parameter sets. We choose the best parameter set `{'rf__max_depth': 6, 'rf__max_features': 'log2', 'rf__n_estimators': 25}` and the worst parameter set `{'rf__max_depth': 22, 'rf__max_features': None, 'rf__n_estimators': 5}` to plot the learning curve with incresing the training data size smoothly"
   ]
  },
  {
   "cell_type": "code",
   "execution_count": 43,
   "metadata": {
    "collapsed": false
   },
   "outputs": [],
   "source": [
    "from sklearn.model_selection import learning_curve\n",
    "def plot_learning_curve(ax, estimator, title, X, y, cv=None,\n",
    "                        n_jobs=1, train_sizes=np.linspace(.1, 1.0, 5)):    \n",
    "    ax.set_title(title)\n",
    "    ax.set_xlabel(\"Training examples\")\n",
    "    ax.set_ylabel(\"Score\")\n",
    "    train_sizes, train_scores, test_scores = learning_curve(\n",
    "        estimator, X, y, cv=cv, n_jobs=n_jobs, train_sizes=train_sizes)\n",
    "    train_scores_mean = np.mean(train_scores, axis=1)\n",
    "    train_scores_std = np.std(train_scores, axis=1)\n",
    "    test_scores_mean = np.mean(test_scores, axis=1)\n",
    "    test_scores_std = np.std(test_scores, axis=1)\n",
    "    ax.grid()\n",
    "\n",
    "    ax.fill_between(train_sizes, train_scores_mean - train_scores_std,\n",
    "                     train_scores_mean + train_scores_std, alpha=0.1,\n",
    "                     color=\"r\")\n",
    "    ax.fill_between(train_sizes, test_scores_mean - test_scores_std,\n",
    "                     test_scores_mean + test_scores_std, alpha=0.1, color=\"g\")\n",
    "    ax.plot(train_sizes, train_scores_mean, 'o-', color=\"r\",\n",
    "             label=\"Training score\")\n",
    "    ax.plot(train_sizes, test_scores_mean, 'o-', color=\"g\",\n",
    "             label=\"Cross-validation score\")\n",
    "    return ax\n",
    "\n",
    "tx_2 = Imputer(strategy='median').fit_transform(x_2)"
   ]
  },
  {
   "cell_type": "markdown",
   "metadata": {},
   "source": [
    "We can see from the learning curve that best model always achieved better results than worst model. Both cv results are increasing with the increase of training data size."
   ]
  },
  {
   "cell_type": "code",
   "execution_count": 44,
   "metadata": {
    "collapsed": false
   },
   "outputs": [
    {
     "data": {
      "image/png": "[encoded data removed]",
      "text/plain": [
       "<matplotlib.figure.Figure at 0x7f2a554d31d0>"
      ]
     },
     "metadata": {},
     "output_type": "display_data"
    }
   ],
   "source": [
    "f, (ax1, ax2) = plt.subplots(1, 2, sharey=True)\n",
    "plot_learning_curve(ax1, RandomForestClassifier(n_jobs=-1, max_depth=21, max_features='log2', n_estimators=25), 'best model',\n",
    "                    tx_2, np.array(y_2.values.tolist()),\n",
    "                    cv=ShuffleSplit(n_splits=20, test_size=0.2, train_size=0.8),\n",
    "                    n_jobs=-1, train_sizes=np.linspace(0.1, 1, 20))\n",
    "plot_learning_curve(ax2, RandomForestClassifier(n_jobs=-1, max_depth=23, max_features='sqrt', n_estimators=5), 'worst model',\n",
    "                    tx_2, np.array(y_2.values.tolist()),\n",
    "                    cv=ShuffleSplit(n_splits=20, test_size=0.2, train_size=0.8),\n",
    "                    n_jobs=-1, train_sizes=np.linspace(0.1, 1, 20))\n",
    "plt.legend(loc=\"best\")\n",
    "plt.show()"
   ]
  },
  {
   "cell_type": "markdown",
   "metadata": {},
   "source": [
    "If we fix the max_feature to be 'log2', then we could observe the cv_score of different max_depth and n_estimator parameter sets."
   ]
  },
  {
   "cell_type": "code",
   "execution_count": 58,
   "metadata": {
    "collapsed": false
   },
   "outputs": [
    {
     "data": {
      "image/png": "[encoded data removed]",
      "text/plain": [
       "<matplotlib.figure.Figure at 0x7fc5e1dfce48>"
      ]
     },
     "metadata": {},
     "output_type": "display_data"
    }
   ],
   "source": [
    "from mpl_toolkits.mplot3d import axes3d\n",
    "mean_scores = np.array(gs_cv_2.cv_results_['mean_test_score'])\n",
    "# Axes3D.plot_wireframe(X, Y, Z, *args, **kwargs)¶\n",
    "# gs_cv_2.cv_results_['mean_test_score']\n",
    "\n",
    "mean_scores = mean_scores.reshape((21,63))\n",
    "log2_mean_scores = mean_scores[:, 21:42]\n",
    "\n",
    "fig = plt.figure(figsize=(8,4))\n",
    "ax = fig.add_subplot(111, projection='3d')\n",
    "# X, Y, Z = axes3d.get_test_data(0.05)\n",
    "p_x, p_y = np.meshgrid(range(5,26), range(5,26))\n",
    "\n",
    "# surf = ax.plot_surface(X, Y, Z, rstride=1, cstride=1, cmap=cm.coolwarm,\n",
    "#                        linewidth=0, antialiased=False)\n",
    "ax.plot_surface(p_x,p_y,log2_mean_scores) #, rstride=10, cstride=10)\n",
    "# ax.plot_wireframe(range(5,26), range(5,26),log2_mean_scores) #, rstride=10, cstride=10)\n",
    "ax.set_xlabel('n_estimator')\n",
    "ax.set_ylabel('max_depth')\n",
    "ax.set_zlabel('cv score')\n",
    "\n",
    "plt.show()\n"
   ]
  },
  {
   "cell_type": "markdown",
   "metadata": {},
   "source": [
    "### 1.3.5 Drop the least important feature\n",
    "According to the feature_importance result of model above, we try to do give a different assumption on raw data. We drop the two lesat important features, namely['yellowReds','redCards']. And then run our pipeline again to observe the result."
   ]
  },
  {
   "cell_type": "code",
   "execution_count": 45,
   "metadata": {
    "collapsed": false
   },
   "outputs": [
    {
     "data": {
      "text/plain": [
       "GridSearchCV(cv=ShuffleSplit(n_splits=20, random_state=None, test_size=0.2, train_size=0.8),\n",
       "       error_score='raise',\n",
       "       estimator=Pipeline(steps=[('replace', Imputer(axis=0, copy=True, missing_values='NaN', strategy='median', verbose=0)), ('rf', RandomForestClassifier(bootstrap=True, class_weight=None, criterion='gini',\n",
       "            max_depth=None, max_features='auto', max_leaf_nodes=None,\n",
       "            min_impurity_spl...ators=10, n_jobs=-1, oob_score=False, random_state=None,\n",
       "            verbose=0, warm_start=False))]),\n",
       "       fit_params={}, iid=True, n_jobs=-1,\n",
       "       param_grid={'rf__n_estimators': [5, 6, 7, 8, 9, 10, 11, 12, 13, 14, 15, 16, 17, 18, 19, 20, 21, 22, 23, 24, 25], 'rf__max_features': ['sqrt', 'log2', None], 'rf__max_depth': [5, 6, 7, 8, 9, 10, 11, 12, 13, 14, 15, 16, 17, 18, 19, 20, 21, 22, 23, 24, 25]},\n",
       "       pre_dispatch='2*n_jobs', refit=True, return_train_score=True,\n",
       "       scoring=None, verbose=0)"
      ]
     },
     "execution_count": 45,
     "metadata": {},
     "output_type": "execute_result"
    }
   ],
   "source": [
    "# Drop feature\n",
    "x_2_drop = pd.concat([x_2.ix[:,0:12],x_2.ix[:,14:16]],axis = 1)\n",
    "gs_cv_2_drop = GridSearchCV(pipe, params, n_jobs=-1,\n",
    "                    cv=ShuffleSplit(n_splits=20, test_size=0.2, train_size=0.8))\n",
    "gs_cv_2_drop.fit(x_2_drop, y_2)"
   ]
  },
  {
   "cell_type": "markdown",
   "metadata": {},
   "source": [
    "The best score after dropping least important feature **increases to 0.85078**. The best classifier parameter set is  **{'rf__max_depth': 25, 'rf__max_features': 'sqrt', 'rf__n_estimators': 17}.**  \n",
    "Therefore, dropping some unimportant features, could help improve the classification performance in this case."
   ]
  },
  {
   "cell_type": "code",
   "execution_count": 47,
   "metadata": {
    "collapsed": false
   },
   "outputs": [
    {
     "data": {
      "text/plain": [
       "(0.850788643533123,\n",
       " {'rf__max_depth': 25, 'rf__max_features': 'sqrt', 'rf__n_estimators': 17})"
      ]
     },
     "execution_count": 47,
     "metadata": {},
     "output_type": "execute_result"
    }
   ],
   "source": [
    "gs_cv_2_drop.best_score_, gs_cv_2_drop.best_params_"
   ]
  },
  {
   "cell_type": "markdown",
   "metadata": {},
   "source": [
    "We could also observe the feature importance this time. Two most important features remain to be 'weighted mean of IATscore' and 'weighted mean of Exp score'. Compared to the results before dropping features, **importance of other features increase and distribute more evenly. **"
   ]
  },
  {
   "cell_type": "code",
   "execution_count": 50,
   "metadata": {
    "collapsed": false
   },
   "outputs": [
    {
     "data": {
      "image/png": "[encoded data removed]",
      "text/plain": [
       "<matplotlib.figure.Figure at 0x7ff9c8e0efd0>"
      ]
     },
     "metadata": {},
     "output_type": "display_data"
    }
   ],
   "source": [
    "f_importance_2_drop = gs_cv_2_drop.best_estimator_.get_params()['rf'].feature_importances_\n",
    "\n",
    "\n",
    "f_label = ['club', 'height', 'weight', 'position', 'age',\n",
    "                'league','games','victories', 'ties', \n",
    "                'defeats', 'goals', 'yellow', \n",
    "                'w_IAT', 'w_EXP']\n",
    "fig, axes = plt.subplots(nrows=1, ncols=1,figsize=(10,4))\n",
    "\n",
    "plt.bar(range(len(f_importance_2_drop)), f_importance_2_drop, align=\"center\")\n",
    "plt.xticks(range(len(f_importance_2_drop)),f_label, color='black')\n",
    "\n",
    "fig.tight_layout()\n",
    "plt.show()\n",
    "\n"
   ]
  },
  {
   "cell_type": "markdown",
   "metadata": {},
   "source": [
    "## 1.4 Conclusion\n",
    "1. Our best model for classification reaches cv_score of 0.85078. In that case, we group data by player at first, then drop some unimportant features, then use gridsearchCV() function to find best parameter set as {'rfmax_depth': 25, 'rfmax_features': 'sqrt', 'rfn_estimators':17}.\n",
    "2. For the overall features, two most important features for the best model 'weighted mean of IATscore' and 'weighted mean of Exp score', while two least important features are 'yellowReds' and 'redCards'.\n",
    "3. Dropping some unimportant features will help us improve the cv_score a bit, also it change the distribution of feature_importance to be more evenly distributed.\n",
    "5. Conducting grid search cross validation will help us lower the extent of overfitting."
   ]
  },
  {
   "cell_type": "markdown",
   "metadata": {},
   "source": [
    "# Task 2\n",
    "\n",
    "Aggregate the referee information by player, and then produce two disjoint clusters for soccer players."
   ]
  },
  {
   "cell_type": "markdown",
   "metadata": {},
   "source": [
    "The following function `agg_player` produces a dataframe with unique players. Invariants of a player, such as heights, weights, club and league, are of the original value since they are the same for a player; while the variables such as number of yellow and red cards for each game are used to get weighted means with respect to games weight. "
   ]
  },
  {
   "cell_type": "code",
   "execution_count": 3,
   "metadata": {
    "collapsed": false
   },
   "outputs": [],
   "source": [
    "def agg_player(data, weighted_cols, sum_cols):\n",
    "    # map categorical variables to codes\n",
    "    data['club'] = data['club'].astype('category').cat.codes\n",
    "    data['leagueCountry'] = data['leagueCountry'].astype('category').cat.codes\n",
    "    data['position'] = data['position'].astype('category').cat.codes\n",
    "    data['group'] = data['playerShort'].astype('category').cat.codes\n",
    "    # generate age feature\n",
    "    data['age'] = 2016 - data['birthday'].str.rsplit('.', 1, True)[1].astype('int')\n",
    "    \n",
    "    # multiply weighted columns with their weights, `games` value\n",
    "    for col in weighted_cols:\n",
    "        data[col] = data[col] * data['games']\n",
    "\n",
    "    # split data into two groups\n",
    "    # group1 contains invariants, e.g. club, height of a player\n",
    "    group1 = data.groupby('playerShort').agg('mean')[\n",
    "        ['leagueCountry', 'club', 'height', 'weight', 'age', 'position']]\n",
    "    # group2 contains variants for a player that need to be added, e.g. number of cards\n",
    "    group2 = data.groupby('playerShort').agg('sum')[sum_cols]\n",
    "    # concatenate two groups\n",
    "    res = pd.concat([group1.ix[:, :-1], group2], axis=1)\n",
    "\n",
    "    # produce weighted mean for desired weighted columns\n",
    "    for col in weighted_cols:\n",
    "        res[col] = res[col] / res['games']\n",
    "    \n",
    "    return res"
   ]
  },
  {
   "cell_type": "code",
   "execution_count": 4,
   "metadata": {
    "collapsed": false
   },
   "outputs": [],
   "source": [
    "x = agg_player(data, \n",
    "           ['meanIAT', 'nIAT', 'seIAT', 'meanExp', 'nExp', 'seExp'],\n",
    "           ['games', 'victories', 'ties', 'defeats', 'goals', \n",
    "            'yellowCards', 'yellowReds', 'redCards', \n",
    "            'refNum', 'refCountry',\n",
    "            'meanIAT', 'nIAT', 'seIAT', 'meanExp', 'nExp', 'seExp'\n",
    "           ])"
   ]
  },
  {
   "cell_type": "markdown",
   "metadata": {},
   "source": [
    "First we want to use GridSearchCV to find the best clustering model with highest score, equally the highest absolute value of the score of KMeans model."
   ]
  },
  {
   "cell_type": "code",
   "execution_count": 5,
   "metadata": {
    "collapsed": false
   },
   "outputs": [
    {
     "data": {
      "text/plain": [
       "GridSearchCV(cv=ShuffleSplit(n_splits=20, random_state=None, test_size=0.2, train_size=0.8),\n",
       "       error_score='raise',\n",
       "       estimator=Pipeline(steps=[('replace', Imputer(axis=0, copy=True, missing_values='NaN', strategy='median', verbose=0)), ('kmeans', KMeans(algorithm='auto', copy_x=True, init='k-means++', max_iter=300,\n",
       "    n_clusters=2, n_init=10, n_jobs=1, precompute_distances='auto',\n",
       "    random_state=None, tol=0.0001, verbose=0))]),\n",
       "       fit_params={}, iid=True, n_jobs=-1,\n",
       "       param_grid={'kmeans__algorithm': ['full', 'elkan'], 'kmeans__init': ['random', 'k-means++'], 'kmeans__max_iter': [500, 1000, 1500, 2000], 'kmeans__n_init': [1, 2, 3, 4, 5, 6, 7, 8, 9, 10]},\n",
       "       pre_dispatch='2*n_jobs', refit=True, return_train_score=True,\n",
       "       scoring=None, verbose=0)"
      ]
     },
     "execution_count": 5,
     "metadata": {},
     "output_type": "execute_result"
    }
   ],
   "source": [
    "params = {\n",
    "    'kmeans__max_iter': [500, 1000, 1500, 2000],\n",
    "    'kmeans__init': ['random', 'k-means++'],\n",
    "    'kmeans__algorithm': ['full', 'elkan'],\n",
    "    'kmeans__n_init': [i for i in range(1, 11)]\n",
    "}\n",
    "pipe = Pipeline([\n",
    "         ('replace', Imputer(strategy='median')),  # replace NaN value with median valuep\n",
    "         ('kmeans', KMeans(n_clusters=2))  # classification\n",
    "     ])\n",
    "gs = GridSearchCV(pipe, params, n_jobs=-1,\n",
    "            cv=ShuffleSplit(n_splits=20, test_size=0.2, train_size=0.8))\n",
    "gs.fit(x)"
   ]
  },
  {
   "cell_type": "markdown",
   "metadata": {},
   "source": [
    "Check the best score and best parameters for the best model"
   ]
  },
  {
   "cell_type": "code",
   "execution_count": 6,
   "metadata": {
    "collapsed": false
   },
   "outputs": [
    {
     "data": {
      "text/plain": [
       "(-898115848695.5387,\n",
       " {'kmeans__algorithm': 'elkan',\n",
       "  'kmeans__init': 'k-means++',\n",
       "  'kmeans__max_iter': 2000,\n",
       "  'kmeans__n_init': 7})"
      ]
     },
     "execution_count": 6,
     "metadata": {},
     "output_type": "execute_result"
    }
   ],
   "source": [
    "gs.best_score_, gs.best_params_"
   ]
  },
  {
   "cell_type": "markdown",
   "metadata": {},
   "source": [
    "We can see the silhouette score for the best model, `KMeans(2, max_iter=1500, init='k-means++', algorithm='elkan', n_init=2)`"
   ]
  },
  {
   "cell_type": "code",
   "execution_count": 7,
   "metadata": {
    "collapsed": true
   },
   "outputs": [],
   "source": [
    "def get_silhouette_score(x, estimator):\n",
    "    cls = estimator\n",
    "    cls_labels = cls.fit_predict(x)\n",
    "    score = silhouette_score(x, cls_labels)\n",
    "    return score"
   ]
  },
  {
   "cell_type": "markdown",
   "metadata": {},
   "source": [
    "We reach 0.48 for the best estimator"
   ]
  },
  {
   "cell_type": "code",
   "execution_count": 7,
   "metadata": {
    "collapsed": false
   },
   "outputs": [
    {
     "data": {
      "text/plain": [
       "0.48677590008849375"
      ]
     },
     "execution_count": 7,
     "metadata": {},
     "output_type": "execute_result"
    }
   ],
   "source": [
    "from sklearn.cluster import AgglomerativeClustering\n",
    "tx = Imputer(strategy='median').fit_transform(x)\n",
    "get_silhouette_score(tx, KMeans(2, max_iter=1500, init='random', algorithm='full', n_init=3))"
   ]
  },
  {
   "cell_type": "markdown",
   "metadata": {
    "collapsed": true
   },
   "source": [
    "Next we will remove **the least important** features iteratively and see how the silhouette score changes"
   ]
  },
  {
   "cell_type": "code",
   "execution_count": 8,
   "metadata": {
    "collapsed": false
   },
   "outputs": [],
   "source": [
    "feature_importance = [\n",
    "    0.06672991,  0.05214417,  0.05665237,  0.0411245 ,  0.04477985, \n",
    "    0.0578409 ,  0.06585295,  0.07985616,  0.05489152,  0.06987497,\n",
    "    0.07734497,  0.06031401,  0.02388019,  0.02271411,  0.12232772,\n",
    "    0.10367171\n",
    "]\n",
    "from scipy.stats import rankdata\n",
    "ranks = rankdata(feature_importance)"
   ]
  },
  {
   "cell_type": "code",
   "execution_count": 9,
   "metadata": {
    "collapsed": false
   },
   "outputs": [
    {
     "ename": "NameError",
     "evalue": "name 'tx' is not defined",
     "output_type": "error",
     "traceback": [
      "\u001b[0;31m---------------------------------------------------------------------------\u001b[0m",
      "\u001b[0;31mNameError\u001b[0m                                 Traceback (most recent call last)",
      "\u001b[0;32m<ipython-input-9-56742b401f4e>\u001b[0m in \u001b[0;36m<module>\u001b[0;34m()\u001b[0m\n\u001b[1;32m      5\u001b[0m \u001b[0;31m# get score while removing least import features\u001b[0m\u001b[0;34m\u001b[0m\u001b[0;34m\u001b[0m\u001b[0m\n\u001b[1;32m      6\u001b[0m \u001b[0;32mfor\u001b[0m \u001b[0mi\u001b[0m \u001b[0;32min\u001b[0m \u001b[0mfeature_cols\u001b[0m\u001b[0;34m:\u001b[0m\u001b[0;34m\u001b[0m\u001b[0m\n\u001b[0;32m----> 7\u001b[0;31m     \u001b[0mscore\u001b[0m \u001b[0;34m=\u001b[0m \u001b[0mget_silhouette_score\u001b[0m\u001b[0;34m(\u001b[0m\u001b[0mtx\u001b[0m\u001b[0;34m[\u001b[0m\u001b[0;34m:\u001b[0m\u001b[0;34m,\u001b[0m \u001b[0mlist\u001b[0m\u001b[0;34m(\u001b[0m\u001b[0md\u001b[0m\u001b[0;34m.\u001b[0m\u001b[0mvalues\u001b[0m\u001b[0;34m(\u001b[0m\u001b[0;34m)\u001b[0m\u001b[0;34m)\u001b[0m\u001b[0;34m]\u001b[0m\u001b[0;34m,\u001b[0m \u001b[0mKMeans\u001b[0m\u001b[0;34m(\u001b[0m\u001b[0;36m2\u001b[0m\u001b[0;34m,\u001b[0m \u001b[0mmax_iter\u001b[0m\u001b[0;34m=\u001b[0m\u001b[0;36m1500\u001b[0m\u001b[0;34m,\u001b[0m \u001b[0minit\u001b[0m\u001b[0;34m=\u001b[0m\u001b[0;34m'random'\u001b[0m\u001b[0;34m,\u001b[0m \u001b[0malgorithm\u001b[0m\u001b[0;34m=\u001b[0m\u001b[0;34m'full'\u001b[0m\u001b[0;34m,\u001b[0m \u001b[0mn_init\u001b[0m\u001b[0;34m=\u001b[0m\u001b[0;36m3\u001b[0m\u001b[0;34m)\u001b[0m\u001b[0;34m)\u001b[0m\u001b[0;34m\u001b[0m\u001b[0m\n\u001b[0m\u001b[1;32m      8\u001b[0m     \u001b[0msilhouette_scores\u001b[0m\u001b[0;34m.\u001b[0m\u001b[0mappend\u001b[0m\u001b[0;34m(\u001b[0m\u001b[0mscore\u001b[0m\u001b[0;34m)\u001b[0m\u001b[0;34m\u001b[0m\u001b[0m\n\u001b[1;32m      9\u001b[0m     \u001b[0;32mdel\u001b[0m \u001b[0md\u001b[0m\u001b[0;34m[\u001b[0m\u001b[0mi\u001b[0m\u001b[0;34m]\u001b[0m  \u001b[0;31m# remove ith feature column\u001b[0m\u001b[0;34m\u001b[0m\u001b[0m\n",
      "\u001b[0;31mNameError\u001b[0m: name 'tx' is not defined"
     ]
    }
   ],
   "source": [
    "silhouette_scores = []\n",
    "feature_cols = [i for i in range(16)]\n",
    "d = {i-1:j for i, j in zip(ranks, feature_cols)}  # construct a dictionary with importance rank and column index\n",
    "\n",
    "# get score while removing least import features\n",
    "for i in feature_cols:\n",
    "    score = get_silhouette_score(tx[:, list(d.values())], KMeans(2, max_iter=1500, init='random', algorithm='full', n_init=3))\n",
    "    silhouette_scores.append(score)\n",
    "    del d[i]  # remove ith feature column"
   ]
  },
  {
   "cell_type": "code",
   "execution_count": null,
   "metadata": {
    "collapsed": false
   },
   "outputs": [],
   "source": [
    "res = pd.DataFrame([[i,j] for i, j in enumerate(silhouette_scores)])\n",
    "res.columns = ['feature length', 'silhouette score']\n",
    "res"
   ]
  },
  {
   "cell_type": "code",
   "execution_count": null,
   "metadata": {
    "collapsed": false
   },
   "outputs": [],
   "source": [
    "res.plot.scatter('number of removed features', 'silhouette score') "
   ]
  },
  {
   "cell_type": "markdown",
   "metadata": {},
   "source": [
    "from the above chart we can see, after removing the 1st least important feature, the score imporoved a lot. After removing 7th least important feature, the score increased a little bit. The score stays almost the same for the rest removal."
   ]
  },
  {
   "cell_type": "code",
   "execution_count": null,
   "metadata": {
    "collapsed": true
   },
   "outputs": [],
   "source": []
  }
 ],
 "metadata": {
  "anaconda-cloud": {},
  "kernelspec": {
   "display_name": "Python [default]",
   "language": "python",
   "name": "python3"
  },
  "language_info": {
   "codemirror_mode": {
    "name": "ipython",
    "version": 3
   },
   "file_extension": ".py",
   "mimetype": "text/x-python",
   "name": "python",
   "nbconvert_exporter": "python",
   "pygments_lexer": "ipython3",
   "version": "3.5.2"
  }
 },
 "nbformat": 4,
 "nbformat_minor": 1
}
