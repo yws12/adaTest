{
 "cells": [
  {
   "cell_type": "markdown",
   "metadata": {},
   "source": [
    "# Task 1\n",
    "\n",
    "In this task, we decided to consider it to be a binary classification problem, i.e. predict if the given player is a dark skin person or a light skin one. We sparated the range of skintone ([0, 1]) equally to get two classes."
   ]
  },
  {
   "cell_type": "markdown",
   "metadata": {},
   "source": [
    "## Basic procedures\n",
    "Import some library classes and data"
   ]
  },
  {
   "cell_type": "code",
   "execution_count": 2,
   "metadata": {
    "collapsed": true
   },
   "outputs": [],
   "source": [
    "%matplotlib inline\n",
    "\n",
    "import pandas as pd\n",
    "import numpy as np\n",
    "import matplotlib.pyplot as plt\n",
    "from sklearn.ensemble import RandomForestClassifier\n",
    "from sklearn.pipeline import Pipeline\n",
    "from sklearn.preprocessing import Imputer, StandardScaler\n",
    "from sklearn.model_selection import GridSearchCV, GroupShuffleSplit, ShuffleSplit\n",
    "from sklearn.model_selection import train_test_split, cross_val_score\n",
    "\n",
    "data = pd.read_csv('CrowdstormingDataJuly1st.csv', quotechar='\"')"
   ]
  },
  {
   "cell_type": "markdown",
   "metadata": {},
   "source": [
    "To produce the feature matrix, we did the following convertions:\n",
    "\n",
    "1. use the mean of rater1 and rater2 as the target skintone\n",
    "2. map club, league, position and group columns into integer numbers\n",
    "3. get ages of players from the column birthday\n",
    "\n",
    "**Note:** Here we map the playerShort to a categorical variable and get its codes for further use, because we don't want the same player appear in both train and test dataset. The classifier would otherwise match train and test data of the same player, in which case we would see super high accuracy around 99%, which however is not accurate at all. In that case, we are only searching the same person in test dataset rather than predicting. We also prove this below."
   ]
  },
  {
   "cell_type": "code",
   "execution_count": 11,
   "metadata": {
    "collapsed": true
   },
   "outputs": [],
   "source": [
    "def get_numeric_features(data, features, new_feat=None):\n",
    "    \"\"\"\n",
    "    Params:\n",
    "        features(list): requested feature columns\n",
    "        \n",
    "    Return:\n",
    "        x(list): feature matrix\n",
    "        y(list): target variable list\n",
    "        g(list): group code of each player\n",
    "    \"\"\"\n",
    "    # get targe variable  \n",
    "    mean_rate = (data['rater1'] + data['rater2']) / 2\n",
    "    data['skintone'] = mean_rate > 0.5\n",
    "    data['skintone'] = data['skintone'].astype('int')\n",
    "    # map categorical variables to codes\n",
    "    data['club'] = data['club'].astype('category').cat.codes\n",
    "    data['league'] = data['leagueCountry'].astype('category').cat.codes\n",
    "    data['position'] = data['position'].astype('category').cat.codes\n",
    "    data['group'] = data['playerShort'].astype('category').cat.codes\n",
    "    # generate age feature\n",
    "    data['age'] = 2016 - data['birthday'].str.rsplit('.', 1, True)[1].astype('int')\n",
    "    \n",
    "    # add new features\n",
    "    if new_feat is not None:\n",
    "        data = pd.concat([data, new_feat], axis=1)\n",
    "\n",
    "    # choose desired features only\n",
    "    x_feat = data[features]\n",
    "\n",
    "    # drop samples without any skintone for classification problem\n",
    "    valid_y = np.where(~np.isnan(data['skintone']))  \n",
    "    x = x_feat.loc[valid_y[0]].values.tolist()\n",
    "    y = data['skintone'][valid_y[0]]\n",
    "    g = data['group'][valid_y[0]]\n",
    "\n",
    "    return x, y, g"
   ]
  },
  {
   "cell_type": "markdown",
   "metadata": {},
   "source": [
    "The following two functions are used to draw a chart showing train and test scores to see overfitting"
   ]
  },
  {
   "cell_type": "code",
   "execution_count": 4,
   "metadata": {
    "collapsed": true
   },
   "outputs": [],
   "source": [
    "def draw_cv(train, test, x, x_label):\n",
    "    plt.plot(x, train, 'b-')\n",
    "    plt.plot(x, test, 'r-')\n",
    "    ax = plt.gca()\n",
    "    ax.set_ylim(top=1.05)\n",
    "    plt.xlabel(x_label)\n",
    "    plt.ylabel('error')\n",
    "    plt.title('visualization')\n",
    "    plt.show()\n",
    "\n",
    "\n",
    "def get_train_test_score(res, params):\n",
    "    res_pd = pd.DataFrame(res)\n",
    "    temp = res_pd\n",
    "    for k, v in params.items():\n",
    "        temp = temp[temp[k] == v]\n",
    "    train = temp[[col for col in temp.columns \n",
    "                  if 'train' in col and 'mean' not in col and 'std' not in col]]\n",
    "    test = temp[[col for col in temp.columns \n",
    "                 if 'test' in col and 'mean' not in col and 'std' not in col and 'rank' not in col]]\n",
    "    return train.mean(axis=1).tolist(), test.mean(axis=1).tolist()"
   ]
  },
  {
   "cell_type": "markdown",
   "metadata": {},
   "source": [
    "Build a pipeline to do cross validation to find the best model and paramters. We can also see the train scores and test scores in the meantime.\n",
    "\n",
    "We first set two paramters of `RandomForestClassifier`, n_estimators and max_features, to be `[i for i in range(1, 10)]` and `['auto', 'sqrt', 'log2']` respectively, and then run the grid search cross validation on the classifier with each pair of the two parameters."
   ]
  },
  {
   "cell_type": "code",
   "execution_count": 5,
   "metadata": {
    "collapsed": false
   },
   "outputs": [],
   "source": [
    "# parameters of RandomForestClassifier to be tested\n",
    "params={\n",
    "    'rf__n_estimators': [i for i in range(1, 10)],\n",
    "    'rf__max_features': ['sqrt', 'log2', None]\n",
    "}\n",
    "\n",
    "pipe = Pipeline([\n",
    "         ('replace', Imputer(strategy='median')),  # replace NaN value with median valuep\n",
    "         ('standardize', StandardScaler()),  # standardization \n",
    "         ('rf', RandomForestClassifier(n_jobs=-1))  # classification\n",
    "     ])\n",
    "\n",
    "# feature columns that we want to use\n",
    "all_features = [\n",
    "    'league', 'club', 'height', 'weight', 'age', 'position', \n",
    "    'games', 'victories', 'ties', 'defeats', 'goals', \n",
    "    'yellowCards', 'yellowReds', 'redCards', \n",
    "    'refNum', 'refCountry',\n",
    "    'meanIAT', 'nIAT', 'seIAT', 'meanExp', 'nExp', 'seExp'\n",
    "]\n",
    "\n",
    "x, y, groups = get_numeric_features(data, all_features)"
   ]
  },
  {
   "cell_type": "markdown",
   "metadata": {},
   "source": [
    "**Note:** We first use `ShuffleSplit`, which is supposed to used on i.i.d samples, to show how super accuracy is acquired."
   ]
  },
  {
   "cell_type": "code",
   "execution_count": 14,
   "metadata": {
    "collapsed": false
   },
   "outputs": [
    {
     "data": {
      "text/plain": [
       "GridSearchCV(cv=ShuffleSplit(n_splits=20, random_state=None, test_size=0.2, train_size=0.8),\n",
       "       error_score='raise',\n",
       "       estimator=Pipeline(steps=[('replace', Imputer(axis=0, copy=True, missing_values='NaN', strategy='median', verbose=0)), ('standardize', StandardScaler(copy=True, with_mean=True, with_std=True)), ('rf', RandomForestClassifier(bootstrap=True, class_weight=None, criterion='gini',\n",
       "            max_depth=None, max_features='...mators=10, n_jobs=-1, oob_score=False, random_state=None,\n",
       "            verbose=0, warm_start=False))]),\n",
       "       fit_params={}, iid=True, n_jobs=-1,\n",
       "       param_grid={'rf__max_features': ['sqrt', 'log2', None], 'rf__n_estimators': [1, 2, 3, 4, 5, 6, 7, 8, 9]},\n",
       "       pre_dispatch='2*n_jobs', refit=True, return_train_score=True,\n",
       "       scoring=None, verbose=0)"
      ]
     },
     "execution_count": 14,
     "metadata": {},
     "output_type": "execute_result"
    }
   ],
   "source": [
    "# use GridSearchCV to do the cross valiation to find best parameter set\n",
    "gs_cv = GridSearchCV(pipe, params, n_jobs=-1,\n",
    "                    cv=ShuffleSplit(n_splits=20, test_size=0.2, train_size=0.8))\n",
    "gs_cv.fit(x, y, groups)"
   ]
  },
  {
   "cell_type": "markdown",
   "metadata": {},
   "source": [
    "Then we noticed our samples **are not i.i.d samples**, and thus we choose to group the samples from the same players so as to eliminate such inaccuracy caused by matching the data of the same person."
   ]
  },
  {
   "cell_type": "code",
   "execution_count": 23,
   "metadata": {
    "collapsed": false
   },
   "outputs": [
    {
     "data": {
      "text/plain": [
       "GridSearchCV(cv=GroupShuffleSplit(n_splits=20, random_state=None, test_size=0.2,\n",
       "         train_size=0.8),\n",
       "       error_score='raise',\n",
       "       estimator=Pipeline(steps=[('replace', Imputer(axis=0, copy=True, missing_values='NaN', strategy='median', verbose=0)), ('standardize', StandardScaler(copy=True, with_mean=True, with_std=True)), ('rf', RandomForestClassifier(bootstrap=True, class_weight=None, criterion='gini',\n",
       "            max_depth=None, max_features='...mators=10, n_jobs=-1, oob_score=False, random_state=None,\n",
       "            verbose=0, warm_start=False))]),\n",
       "       fit_params={}, iid=True, n_jobs=-1,\n",
       "       param_grid={'rf__max_features': ['sqrt', 'log2', None], 'rf__n_estimators': [1, 2, 3, 4, 5, 6, 7, 8, 9]},\n",
       "       pre_dispatch='2*n_jobs', refit=True, return_train_score=True,\n",
       "       scoring=None, verbose=0)"
      ]
     },
     "execution_count": 23,
     "metadata": {},
     "output_type": "execute_result"
    }
   ],
   "source": [
    "# use GridSearchCV to do the cross valiation to find best parameter set\n",
    "gs_cv = GridSearchCV(pipe, params, n_jobs=-1,\n",
    "                    cv=GroupShuffleSplit(n_splits=20, test_size=0.2, train_size=0.8))\n",
    "gs_cv.fit(x, y, groups)"
   ]
  },
  {
   "cell_type": "markdown",
   "metadata": {},
   "source": [
    "Find the best score and the best parameter pair for the baseline. "
   ]
  },
  {
   "cell_type": "code",
   "execution_count": 24,
   "metadata": {
    "collapsed": false
   },
   "outputs": [
    {
     "data": {
      "text/plain": [
       "(0.85447057757225175, {'rf__max_features': 'log2', 'rf__n_estimators': 6})"
      ]
     },
     "execution_count": 24,
     "metadata": {},
     "output_type": "execute_result"
    }
   ],
   "source": [
    "gs_cv.best_score_, gs_cv.best_params_"
   ]
  },
  {
   "cell_type": "markdown",
   "metadata": {},
   "source": [
    "We use the group of train scores and test scores whose `max_features` is set to `'log2'` and `n_estimators` is set to a range of list to show we are overfitting the dataset. "
   ]
  },
  {
   "cell_type": "code",
   "execution_count": 25,
   "metadata": {
    "collapsed": false
   },
   "outputs": [
    {
     "data": {
      "image/png": "[encoded data removed]",
      "text/plain": [
       "<matplotlib.figure.Figure at 0x7f75dd1f7f28>"
      ]
     },
     "metadata": {},
     "output_type": "display_data"
    }
   ],
   "source": [
    "res = gs_cv.cv_results_\n",
    "train, test = get_train_test_score(res, {'param_rf__max_features': 'log2'})\n",
    "draw_cv(train, test, [i for i in range(9)], 'n_estimators')"
   ]
  },
  {
   "cell_type": "markdown",
   "metadata": {},
   "source": [
    "### Add more CV charts to show paramter tuning process"
   ]
  },
  {
   "cell_type": "markdown",
   "metadata": {},
   "source": [
    "## Drop features\n",
    "We group current features into 5 groups. Each group is related to the player himself, one game, card numbers, referee and bias test results. We want to see the results of dropping each group of features. "
   ]
  },
  {
   "cell_type": "markdown",
   "metadata": {},
   "source": [
    "## Add new features\n",
    "\n",
    "We can get `totalIAT` by multiplying `meanIAT` and `nIAT`. Since implicit bias score (using the race IAT) represents the bias of a referee, we multiply it with `yellowCards`, `yellowReds`, `redCards` to generate 3 more features. We generate 4 similar features with respect to explicit bias score too. Then run the same procedure."
   ]
  },
  {
   "cell_type": "code",
   "execution_count": 12,
   "metadata": {
    "collapsed": false
   },
   "outputs": [],
   "source": [
    "def generate_new_features(data):\n",
    "    data['totalIAT'] = data['meanIAT'] * data['nIAT']\n",
    "    data['yr_IAT'] = data['totalIAT'] * data['yellowReds']\n",
    "    data['yc_IAT'] = data['totalIAT'] * data['yellowCards']\n",
    "    data['r_IAT'] = data['totalIAT'] * data['redCards']\n",
    "    data['totalExp'] = data['meanExp'] * data['nExp']\n",
    "    data['yr_Exp'] = data['totalExp'] * data['yellowReds']\n",
    "    data['yc_Exp'] = data['totalExp'] * data['yellowCards']\n",
    "    data['r_Exp'] = data['totalExp'] * data['redCards']\n",
    "    return data[['totalIAT', 'yr_IAT', 'yc_IAT', 'r_IAT', \n",
    "                 'totalExp', 'yr_Exp', 'yc_Exp', 'r_Exp']]\n",
    "\n",
    "new_features_added = [\n",
    "    'league', 'club', 'height', 'weight', 'age', 'position', \n",
    "    'games', 'victories', 'ties', 'defeats', 'goals', \n",
    "    'yellowCards', 'yellowReds', 'redCards', \n",
    "    'refNum', 'refCountry',\n",
    "    'meanIAT', 'nIAT', 'seIAT', 'meanExp', 'nExp', 'seExp',\n",
    "    'totalIAT', 'yr_IAT', 'yc_IAT', 'r_IAT', 'totalExp', 'yr_Exp', 'yc_Exp', 'r_Exp'\n",
    "]\n",
    "new_x, new_y, new_groups = get_numeric_features(data, new_features_added, generate_new_features(data))"
   ]
  },
  {
   "cell_type": "code",
   "execution_count": null,
   "metadata": {
    "collapsed": true
   },
   "outputs": [],
   "source": [
    "gs_cv = GridSearchCV(pipe, params, n_jobs=-1,\n",
    "                    cv=GroupShuffleSplit(n_splits=20, test_size=0.2, train_size=0.8))\n",
    "gs_cv.fit(new_x, new_y, new_groups)"
   ]
  },
  {
   "cell_type": "markdown",
   "metadata": {},
   "source": [
    "We didn't see any improvements after adding these four features. The overfitting issue still exists."
   ]
  },
  {
   "cell_type": "code",
   "execution_count": 15,
   "metadata": {
    "collapsed": false
   },
   "outputs": [
    {
     "data": {
      "text/plain": [
       "(0.85790223230558915, {'rf__max_features': 'log2', 'rf__n_estimators': 6})"
      ]
     },
     "execution_count": 15,
     "metadata": {},
     "output_type": "execute_result"
    }
   ],
   "source": [
    "gs_cv.best_score_, gs_cv.best_params_"
   ]
  },
  {
   "cell_type": "code",
   "execution_count": 16,
   "metadata": {
    "collapsed": false
   },
   "outputs": [
    {
     "data": {
      "image/png": "[encoded data removed]",
      "text/plain": [
       "<matplotlib.figure.Figure at 0x7fe058730630>"
      ]
     },
     "metadata": {},
     "output_type": "display_data"
    }
   ],
   "source": [
    "res = gs_cv.cv_results_\n",
    "train, test = get_train_test_score(res, {'param_rf__max_features': 'log2'})\n",
    "draw_cv(train, test, [i for i in range(9)], 'n_estimators')"
   ]
  }
 ],
 "metadata": {
  "kernelspec": {
   "display_name": "Python 3",
   "language": "python",
   "name": "python3"
  },
  "language_info": {
   "codemirror_mode": {
    "name": "ipython",
    "version": 3
   },
   "file_extension": ".py",
   "mimetype": "text/x-python",
   "name": "python",
   "nbconvert_exporter": "python",
   "pygments_lexer": "ipython3",
   "version": "3.5.2"
  }
 },
 "nbformat": 4,
 "nbformat_minor": 1
}
