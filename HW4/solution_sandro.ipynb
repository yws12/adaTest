{
 "cells": [
  {
   "cell_type": "markdown",
   "metadata": {},
   "source": [
    "# Prediction of skin color of  soccer players\n",
    "\n",
    "We formulate this task as a binary classification problem. Given a description of a particular soccer player we need to predict binary output: Y=1 (the player has dark skin) or Y=0 (the player has light skin)\n",
    "\n",
    "We start with importing necessary libraries and loading the data into a dataframe for further analisys..."
   ]
  },
  {
   "cell_type": "code",
   "execution_count": 126,
   "metadata": {
    "collapsed": false
   },
   "outputs": [],
   "source": [
    "import numpy as np\n",
    "import pandas as pd\n",
    "import matplotlib.pyplot as plt\n",
    "\n",
    "import datetime\n",
    "\n",
    "from sklearn.ensemble import RandomForestClassifier\n",
    "from sklearn.preprocessing import Imputer, StandardScaler\n",
    "from sklearn.pipeline import Pipeline\n",
    "from sklearn.model_selection import GridSearchCV, GroupShuffleSplit, cross_val_score\n",
    "\n",
    "%matplotlib inline"
   ]
  },
  {
   "cell_type": "code",
   "execution_count": 37,
   "metadata": {
    "collapsed": false
   },
   "outputs": [
    {
     "data": {
      "text/plain": [
       "(146028, 28)"
      ]
     },
     "execution_count": 37,
     "metadata": {},
     "output_type": "execute_result"
    }
   ],
   "source": [
    "def load_data():\n",
    "    \n",
    "    DATA_FILE_PATH = 'CrowdstormingDataJuly1st.csv'\n",
    "\n",
    "    return pd.read_csv(DATA_FILE_PATH)\n",
    "\n",
    "df = load_data()\n",
    "    \n",
    "df.shape"
   ]
  },
  {
   "cell_type": "markdown",
   "metadata": {},
   "source": [
    "## Generating feature vectors and corresponding labels\n",
    "\n",
    "We can see from the charts depicted below that occasionally raters disagree with each other. \n",
    "\n",
    "Therefore, to create a label for particular training example we will take an avarage of two raters. As far as the ratings range from 0 to 1 we can use a treshhold 0.5 to differentiate between dark and light skin. Specifically, we will consider Y=1 if the average rating is greater or equal to 0.5 and Y=0 otherwise."
   ]
  },
  {
   "cell_type": "code",
   "execution_count": 5,
   "metadata": {
    "collapsed": false
   },
   "outputs": [
    {
     "data": {
      "text/plain": [
       "<matplotlib.text.Text at 0x181f26ac860>"
      ]
     },
     "execution_count": 5,
     "metadata": {},
     "output_type": "execute_result"
    },
    {
     "data": {
      "image/png": "[encoded data removed]",
      "text/plain": [
       "<matplotlib.figure.Figure at 0x181f25d1518>"
      ]
     },
     "metadata": {},
     "output_type": "display_data"
    }
   ],
   "source": [
    "rates1, rates2, ratesAvg = df.rater1, df.rater2, (df.rater1 + df.rater2) / 2\n",
    "\n",
    "fig, ax = plt.subplots(1, 3, figsize=(12, 4))\n",
    "\n",
    "ax[0].hist(rates1.dropna(), bins=5)\n",
    "ax[0].set_title('Rater 1')\n",
    "\n",
    "ax[1].hist(rates2.dropna(), bins=5)\n",
    "ax[1].set_title('Rater 2')\n",
    "\n",
    "ax[2].hist(ratesAvg.dropna(), bins=5)\n",
    "ax[2].set_title('Average Rating')"
   ]
  },
  {
   "cell_type": "markdown",
   "metadata": {},
   "source": [
    "### Treating missing data\n",
    "\n",
    "Below we display number of missing values per column (columns without na-s aren't displayed).\n",
    "\n",
    "<ul>\n",
    "<li>In case of numerical variables, we fill na-s with median.</li>\n",
    "<li>In case of categorical variables, we fill na-s with the most frequent category.</li>\n",
    "<li>We drop records with missing labels (rater1, rater2) because we can't do any predictions without correct labels. </li>\n",
    "</ul>\n",
    "\n",
    "<b>Note.</b> We show below that either both rater1 and rater2 values are present or missing. In other words, there are no such cases when only one of them is present/missing."
   ]
  },
  {
   "cell_type": "code",
   "execution_count": 6,
   "metadata": {
    "collapsed": false
   },
   "outputs": [
    {
     "data": {
      "text/plain": [
       "height        263\n",
       "weight       2243\n",
       "position    17726\n",
       "photoID     21407\n",
       "rater1      21407\n",
       "rater2      21407\n",
       "Alpha_3         1\n",
       "meanIAT       163\n",
       "nIAT          163\n",
       "seIAT         163\n",
       "meanExp       163\n",
       "nExp          163\n",
       "seExp         163\n",
       "dtype: int64"
      ]
     },
     "execution_count": 6,
     "metadata": {},
     "output_type": "execute_result"
    }
   ],
   "source": [
    "missingValCount = df.shape[0] - df.count()\n",
    "missingValCount[missingValCount > 0]"
   ]
  },
  {
   "cell_type": "code",
   "execution_count": 7,
   "metadata": {
    "collapsed": false
   },
   "outputs": [
    {
     "data": {
      "text/plain": [
       "0"
      ]
     },
     "execution_count": 7,
     "metadata": {},
     "output_type": "execute_result"
    }
   ],
   "source": [
    "# The number of cases where one of the rates is present and the other is missing equals to zero.\n",
    "\n",
    "np.sum(df.rater1.isnull() ^ df.rater2.isnull())"
   ]
  },
  {
   "cell_type": "code",
   "execution_count": 142,
   "metadata": {
    "collapsed": false
   },
   "outputs": [],
   "source": [
    "df = load_data()\n",
    "\n",
    "# Removing rows with na-s in rater1 and rater2\n",
    "df = df[~df.rater1.isnull()]\n",
    "\n",
    "# Column names whith categorical values\n",
    "cols_categorical = [\"playerShort\", \"player\", \"club\", \"leagueCountry\", \"position\", \"photoID\", \"Alpha_3\"]\n",
    "\n",
    "# Converting categorical variables (string) into corresponding numerical codes (int). (Sklearn only accepts numerics).\n",
    "for colName in cols_categorical:\n",
    "    df[colName] = df[colName].astype('category').cat.codes\n",
    "    \n",
    "# Birthday is converted to age.\n",
    "df['birthday'] = datetime.datetime.now().year - df['birthday'].str.rsplit('.', 1, True)[1].astype('int') \n",
    "\n",
    "# Generating labels by taking the average of two raters and converting to binary value.\n",
    "Y = (((df.rater1 + df.rater2) / 2) >= 0.5).astype('int')\n",
    "\n",
    "# We drop rater columns as they are used for labels and shouldn't be present in feature set as well.\n",
    "X = df[df.columns.drop(['rater1', 'rater2'])]\n",
    "\n",
    "# This list of groups id-s (single group is constituted by different records of a single player) to be used in cross validation\n",
    "#below. We require training and test splits not to contain data about same players. \n",
    "# For more details, see Cross-validation iterators for grouped data (sklearn documentation).\n",
    "groups = X['playerShort'].values\n",
    "\n",
    "# Here we dismiss features which we considere to be unimportant. Indeed, one can't infer skin color according to name or photo id.\n",
    "X = X[X.columns.drop(['playerShort', 'player', 'photoID', 'Alpha_3', 'club'])]"
   ]
  },
  {
   "cell_type": "code",
   "execution_count": 141,
   "metadata": {
    "collapsed": false
   },
   "outputs": [
    {
     "name": "stderr",
     "output_type": "stream",
     "text": [
      "C:\\Users\\Sandro\\Anaconda3\\lib\\site-packages\\numpy\\lib\\function_base.py:3834: RuntimeWarning: Invalid value encountered in percentile\n",
      "  RuntimeWarning)\n",
      "C:\\Users\\Sandro\\Anaconda3\\lib\\site-packages\\numpy\\lib\\function_base.py:3834: RuntimeWarning: Invalid value encountered in percentile\n",
      "  RuntimeWarning)\n"
     ]
    },
    {
     "data": {
      "text/html": [
       "<div>\n",
       "<table border=\"1\" class=\"dataframe\">\n",
       "  <thead>\n",
       "    <tr style=\"text-align: right;\">\n",
       "      <th></th>\n",
       "      <th>club</th>\n",
       "      <th>leagueCountry</th>\n",
       "      <th>birthday</th>\n",
       "      <th>height</th>\n",
       "      <th>weight</th>\n",
       "      <th>position</th>\n",
       "      <th>games</th>\n",
       "      <th>victories</th>\n",
       "      <th>ties</th>\n",
       "      <th>defeats</th>\n",
       "      <th>...</th>\n",
       "      <th>yellowReds</th>\n",
       "      <th>redCards</th>\n",
       "      <th>refNum</th>\n",
       "      <th>refCountry</th>\n",
       "      <th>meanIAT</th>\n",
       "      <th>nIAT</th>\n",
       "      <th>seIAT</th>\n",
       "      <th>meanExp</th>\n",
       "      <th>nExp</th>\n",
       "      <th>seExp</th>\n",
       "    </tr>\n",
       "  </thead>\n",
       "  <tbody>\n",
       "    <tr>\n",
       "      <th>count</th>\n",
       "      <td>124621.000000</td>\n",
       "      <td>124621.000000</td>\n",
       "      <td>124621.000000</td>\n",
       "      <td>124575.000000</td>\n",
       "      <td>123868.000000</td>\n",
       "      <td>124621.000000</td>\n",
       "      <td>124621.000000</td>\n",
       "      <td>124621.000000</td>\n",
       "      <td>124621.000000</td>\n",
       "      <td>124621.000000</td>\n",
       "      <td>...</td>\n",
       "      <td>124621.000000</td>\n",
       "      <td>124621.000000</td>\n",
       "      <td>124621.000000</td>\n",
       "      <td>124621.000000</td>\n",
       "      <td>124468.000000</td>\n",
       "      <td>1.244680e+05</td>\n",
       "      <td>1.244680e+05</td>\n",
       "      <td>124468.000000</td>\n",
       "      <td>1.244680e+05</td>\n",
       "      <td>124468.000000</td>\n",
       "    </tr>\n",
       "    <tr>\n",
       "      <th>mean</th>\n",
       "      <td>46.880437</td>\n",
       "      <td>1.532061</td>\n",
       "      <td>31.064146</td>\n",
       "      <td>182.125330</td>\n",
       "      <td>76.368102</td>\n",
       "      <td>3.892217</td>\n",
       "      <td>2.993613</td>\n",
       "      <td>1.342663</td>\n",
       "      <td>0.714968</td>\n",
       "      <td>0.935982</td>\n",
       "      <td>...</td>\n",
       "      <td>0.012061</td>\n",
       "      <td>0.012751</td>\n",
       "      <td>1531.111546</td>\n",
       "      <td>29.488096</td>\n",
       "      <td>0.348123</td>\n",
       "      <td>1.817187e+04</td>\n",
       "      <td>6.287461e-04</td>\n",
       "      <td>0.463797</td>\n",
       "      <td>1.884147e+04</td>\n",
       "      <td>0.002988</td>\n",
       "    </tr>\n",
       "    <tr>\n",
       "      <th>std</th>\n",
       "      <td>28.181686</td>\n",
       "      <td>1.145214</td>\n",
       "      <td>4.390313</td>\n",
       "      <td>6.804843</td>\n",
       "      <td>7.188595</td>\n",
       "      <td>3.408650</td>\n",
       "      <td>3.580429</td>\n",
       "      <td>1.879913</td>\n",
       "      <td>1.143873</td>\n",
       "      <td>1.422906</td>\n",
       "      <td>...</td>\n",
       "      <td>0.111052</td>\n",
       "      <td>0.113901</td>\n",
       "      <td>916.314559</td>\n",
       "      <td>27.963752</td>\n",
       "      <td>0.032087</td>\n",
       "      <td>1.261437e+05</td>\n",
       "      <td>4.788647e-03</td>\n",
       "      <td>0.219206</td>\n",
       "      <td>1.296022e+05</td>\n",
       "      <td>0.019719</td>\n",
       "    </tr>\n",
       "    <tr>\n",
       "      <th>min</th>\n",
       "      <td>0.000000</td>\n",
       "      <td>0.000000</td>\n",
       "      <td>20.000000</td>\n",
       "      <td>161.000000</td>\n",
       "      <td>54.000000</td>\n",
       "      <td>-1.000000</td>\n",
       "      <td>1.000000</td>\n",
       "      <td>0.000000</td>\n",
       "      <td>0.000000</td>\n",
       "      <td>0.000000</td>\n",
       "      <td>...</td>\n",
       "      <td>0.000000</td>\n",
       "      <td>0.000000</td>\n",
       "      <td>1.000000</td>\n",
       "      <td>1.000000</td>\n",
       "      <td>-0.047254</td>\n",
       "      <td>2.000000e+00</td>\n",
       "      <td>2.235373e-07</td>\n",
       "      <td>-1.375000</td>\n",
       "      <td>2.000000e+00</td>\n",
       "      <td>0.000001</td>\n",
       "    </tr>\n",
       "    <tr>\n",
       "      <th>25%</th>\n",
       "      <td>25.000000</td>\n",
       "      <td>0.000000</td>\n",
       "      <td>28.000000</td>\n",
       "      <td>NaN</td>\n",
       "      <td>NaN</td>\n",
       "      <td>1.000000</td>\n",
       "      <td>1.000000</td>\n",
       "      <td>0.000000</td>\n",
       "      <td>0.000000</td>\n",
       "      <td>0.000000</td>\n",
       "      <td>...</td>\n",
       "      <td>0.000000</td>\n",
       "      <td>0.000000</td>\n",
       "      <td>652.000000</td>\n",
       "      <td>7.000000</td>\n",
       "      <td>NaN</td>\n",
       "      <td>NaN</td>\n",
       "      <td>NaN</td>\n",
       "      <td>NaN</td>\n",
       "      <td>NaN</td>\n",
       "      <td>NaN</td>\n",
       "    </tr>\n",
       "    <tr>\n",
       "      <th>50%</th>\n",
       "      <td>45.000000</td>\n",
       "      <td>2.000000</td>\n",
       "      <td>31.000000</td>\n",
       "      <td>NaN</td>\n",
       "      <td>NaN</td>\n",
       "      <td>4.000000</td>\n",
       "      <td>1.000000</td>\n",
       "      <td>1.000000</td>\n",
       "      <td>0.000000</td>\n",
       "      <td>1.000000</td>\n",
       "      <td>...</td>\n",
       "      <td>0.000000</td>\n",
       "      <td>0.000000</td>\n",
       "      <td>1574.000000</td>\n",
       "      <td>15.000000</td>\n",
       "      <td>NaN</td>\n",
       "      <td>NaN</td>\n",
       "      <td>NaN</td>\n",
       "      <td>NaN</td>\n",
       "      <td>NaN</td>\n",
       "      <td>NaN</td>\n",
       "    </tr>\n",
       "    <tr>\n",
       "      <th>75%</th>\n",
       "      <td>70.000000</td>\n",
       "      <td>2.000000</td>\n",
       "      <td>34.000000</td>\n",
       "      <td>NaN</td>\n",
       "      <td>NaN</td>\n",
       "      <td>6.000000</td>\n",
       "      <td>3.000000</td>\n",
       "      <td>2.000000</td>\n",
       "      <td>1.000000</td>\n",
       "      <td>1.000000</td>\n",
       "      <td>...</td>\n",
       "      <td>0.000000</td>\n",
       "      <td>0.000000</td>\n",
       "      <td>2332.000000</td>\n",
       "      <td>45.000000</td>\n",
       "      <td>NaN</td>\n",
       "      <td>NaN</td>\n",
       "      <td>NaN</td>\n",
       "      <td>NaN</td>\n",
       "      <td>NaN</td>\n",
       "      <td>NaN</td>\n",
       "    </tr>\n",
       "    <tr>\n",
       "      <th>max</th>\n",
       "      <td>96.000000</td>\n",
       "      <td>3.000000</td>\n",
       "      <td>45.000000</td>\n",
       "      <td>203.000000</td>\n",
       "      <td>100.000000</td>\n",
       "      <td>11.000000</td>\n",
       "      <td>47.000000</td>\n",
       "      <td>29.000000</td>\n",
       "      <td>14.000000</td>\n",
       "      <td>18.000000</td>\n",
       "      <td>...</td>\n",
       "      <td>3.000000</td>\n",
       "      <td>2.000000</td>\n",
       "      <td>3147.000000</td>\n",
       "      <td>161.000000</td>\n",
       "      <td>0.573793</td>\n",
       "      <td>1.975803e+06</td>\n",
       "      <td>2.862871e-01</td>\n",
       "      <td>1.800000</td>\n",
       "      <td>2.029548e+06</td>\n",
       "      <td>1.060660</td>\n",
       "    </tr>\n",
       "  </tbody>\n",
       "</table>\n",
       "<p>8 rows × 22 columns</p>\n",
       "</div>"
      ],
      "text/plain": [
       "                club  leagueCountry       birthday         height  \\\n",
       "count  124621.000000  124621.000000  124621.000000  124575.000000   \n",
       "mean       46.880437       1.532061      31.064146     182.125330   \n",
       "std        28.181686       1.145214       4.390313       6.804843   \n",
       "min         0.000000       0.000000      20.000000     161.000000   \n",
       "25%        25.000000       0.000000      28.000000            NaN   \n",
       "50%        45.000000       2.000000      31.000000            NaN   \n",
       "75%        70.000000       2.000000      34.000000            NaN   \n",
       "max        96.000000       3.000000      45.000000     203.000000   \n",
       "\n",
       "              weight       position          games      victories  \\\n",
       "count  123868.000000  124621.000000  124621.000000  124621.000000   \n",
       "mean       76.368102       3.892217       2.993613       1.342663   \n",
       "std         7.188595       3.408650       3.580429       1.879913   \n",
       "min        54.000000      -1.000000       1.000000       0.000000   \n",
       "25%              NaN       1.000000       1.000000       0.000000   \n",
       "50%              NaN       4.000000       1.000000       1.000000   \n",
       "75%              NaN       6.000000       3.000000       2.000000   \n",
       "max       100.000000      11.000000      47.000000      29.000000   \n",
       "\n",
       "                ties        defeats      ...           yellowReds  \\\n",
       "count  124621.000000  124621.000000      ...        124621.000000   \n",
       "mean        0.714968       0.935982      ...             0.012061   \n",
       "std         1.143873       1.422906      ...             0.111052   \n",
       "min         0.000000       0.000000      ...             0.000000   \n",
       "25%         0.000000       0.000000      ...             0.000000   \n",
       "50%         0.000000       1.000000      ...             0.000000   \n",
       "75%         1.000000       1.000000      ...             0.000000   \n",
       "max        14.000000      18.000000      ...             3.000000   \n",
       "\n",
       "            redCards         refNum     refCountry        meanIAT  \\\n",
       "count  124621.000000  124621.000000  124621.000000  124468.000000   \n",
       "mean        0.012751    1531.111546      29.488096       0.348123   \n",
       "std         0.113901     916.314559      27.963752       0.032087   \n",
       "min         0.000000       1.000000       1.000000      -0.047254   \n",
       "25%         0.000000     652.000000       7.000000            NaN   \n",
       "50%         0.000000    1574.000000      15.000000            NaN   \n",
       "75%         0.000000    2332.000000      45.000000            NaN   \n",
       "max         2.000000    3147.000000     161.000000       0.573793   \n",
       "\n",
       "               nIAT         seIAT        meanExp          nExp          seExp  \n",
       "count  1.244680e+05  1.244680e+05  124468.000000  1.244680e+05  124468.000000  \n",
       "mean   1.817187e+04  6.287461e-04       0.463797  1.884147e+04       0.002988  \n",
       "std    1.261437e+05  4.788647e-03       0.219206  1.296022e+05       0.019719  \n",
       "min    2.000000e+00  2.235373e-07      -1.375000  2.000000e+00       0.000001  \n",
       "25%             NaN           NaN            NaN           NaN            NaN  \n",
       "50%             NaN           NaN            NaN           NaN            NaN  \n",
       "75%             NaN           NaN            NaN           NaN            NaN  \n",
       "max    1.975803e+06  2.862871e-01       1.800000  2.029548e+06       1.060660  \n",
       "\n",
       "[8 rows x 22 columns]"
      ]
     },
     "execution_count": 141,
     "metadata": {},
     "output_type": "execute_result"
    }
   ],
   "source": [
    "X.describe()"
   ]
  },
  {
   "cell_type": "code",
   "execution_count": 143,
   "metadata": {
    "collapsed": true
   },
   "outputs": [],
   "source": [
    "pipeline = Pipeline([('fillna_numeric', Imputer(missing_values='NaN', strategy='median', axis=0)),\n",
    "                     ('fillna_categorical', Imputer(missing_values=-1, strategy='most_frequent', axis=0)),\n",
    "                     ('standardize', StandardScaler()), \n",
    "                     ('rf', RandomForestClassifier(n_jobs=-1, n_estimators=10, max_features='log2'))\n",
    "                    ])\n",
    "\n",
    "cv = cross_val_score(pipeline, X, Y, groups, n_jobs=-1, cv=GroupShuffleSplit(n_splits=10, test_size=0.2))"
   ]
  },
  {
   "cell_type": "markdown",
   "metadata": {},
   "source": [
    "### Cross validation for selecting best hyperparameters\n",
    "\n",
    "Below we use grid search to find best combination of hyperparameters out of the predefined range."
   ]
  },
  {
   "cell_type": "code",
   "execution_count": 191,
   "metadata": {
    "collapsed": false
   },
   "outputs": [],
   "source": [
    "# number of decision trees in a random forest \n",
    "num_trees = list(range(1, 25))\n",
    "\n",
    "param_grid = dict(rf__n_estimators = num_trees)"
   ]
  },
  {
   "cell_type": "code",
   "execution_count": 193,
   "metadata": {
    "collapsed": false
   },
   "outputs": [],
   "source": [
    "# we use pipeline to simplify handling missing values and data normalizaion\n",
    "\n",
    "pipeline = Pipeline([('fillna_numeric', Imputer(missing_values='NaN', strategy='median', axis=0)),\n",
    "                     ('fillna_categorical', Imputer(missing_values=-1, strategy='most_frequent', axis=0)),\n",
    "                     ('standardize', StandardScaler()), \n",
    "                     ('rf', RandomForestClassifier(n_jobs=-1))\n",
    "                    ])\n",
    "\n",
    "grid = GridSearchCV(pipeline, param_grid, n_jobs= -1,\n",
    "                    cv = GroupShuffleSplit(n_splits=20, test_size=0.2))"
   ]
  },
  {
   "cell_type": "code",
   "execution_count": 194,
   "metadata": {
    "collapsed": false
   },
   "outputs": [
    {
     "data": {
      "text/plain": [
       "GridSearchCV(cv=GroupShuffleSplit(n_splits=20, random_state=None, test_size=0.2,\n",
       "         train_size=None),\n",
       "       error_score='raise',\n",
       "       estimator=Pipeline(steps=[('fillna_numeric', Imputer(axis=0, copy=True, missing_values='NaN', strategy='median', verbose=0)), ('fillna_categorical', Imputer(axis=0, copy=True, missing_values=-1, strategy='most_frequent',\n",
       "    verbose=0)), ('standardize', StandardScaler(copy=True, with_mean=True, with_std=True)), ('rf',...mators=10, n_jobs=-1, oob_score=False, random_state=None,\n",
       "            verbose=0, warm_start=False))]),\n",
       "       fit_params={}, iid=True, n_jobs=-1,\n",
       "       param_grid={'rf__n_estimators': [1, 2, 3, 4, 5, 6, 7, 8, 9, 10, 11, 12, 13, 14, 15, 16, 17, 18, 19, 20, 21, 22, 23, 24]},\n",
       "       pre_dispatch='2*n_jobs', refit=True, return_train_score=True,\n",
       "       scoring=None, verbose=0)"
      ]
     },
     "execution_count": 194,
     "metadata": {},
     "output_type": "execute_result"
    }
   ],
   "source": [
    "grid.fit(X, Y, groups)"
   ]
  },
  {
   "cell_type": "code",
   "execution_count": 195,
   "metadata": {
    "collapsed": false
   },
   "outputs": [
    {
     "data": {
      "text/plain": [
       "(0.75248869507742155, {'rf__n_estimators': 24})"
      ]
     },
     "execution_count": 195,
     "metadata": {},
     "output_type": "execute_result"
    }
   ],
   "source": [
    "grid.best_score_, grid.best_params_"
   ]
  },
  {
   "cell_type": "code",
   "execution_count": 200,
   "metadata": {
    "collapsed": false
   },
   "outputs": [
    {
     "data": {
      "text/plain": [
       "[<matplotlib.lines.Line2D at 0x181f24dfe80>]"
      ]
     },
     "execution_count": 200,
     "metadata": {},
     "output_type": "execute_result"
    },
    {
     "data": {
      "image/png": "[encoded data removed]",
      "text/plain": [
       "<matplotlib.figure.Figure at 0x181f24dff98>"
      ]
     },
     "metadata": {},
     "output_type": "display_data"
    }
   ],
   "source": [
    "trainScores = grid.cv_results_['mean_train_score']\n",
    "testScores = grid.cv_results_['mean_test_score']\n",
    "\n",
    "plt.plot(trainScores)\n",
    "plt.plot(testScores, c='red')"
   ]
  }
 ],
 "metadata": {
  "anaconda-cloud": {},
  "kernelspec": {
   "display_name": "Python [conda root]",
   "language": "python",
   "name": "conda-root-py"
  },
  "language_info": {
   "codemirror_mode": {
    "name": "ipython",
    "version": 3
   },
   "file_extension": ".py",
   "mimetype": "text/x-python",
   "name": "python",
   "nbconvert_exporter": "python",
   "pygments_lexer": "ipython3",
   "version": "3.5.2"
  }
 },
 "nbformat": 4,
 "nbformat_minor": 1
}
