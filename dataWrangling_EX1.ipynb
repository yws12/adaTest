{
 "cells": [
  {
   "cell_type": "code",
   "execution_count": null,
   "metadata": {
    "collapsed": true
   },
   "outputs": [],
   "source": [
    "\"\"\"\n",
    "\n",
    "The following code lists a dataframe which contains the information from the 9 spreadsheets of microbiome data and metadata.\n",
    "We use BARCODE, GROUP, SAMPLE, TAXON these four columns as a hierachical index for combined data, and COUNT column as value.\n",
    "As you can see, this index is unique.\n",
    "\n",
    "\"\"\"\n",
    "import glob as gl\n",
    "data_dir = \"Data/microbiome\"\n",
    "\n",
    "\"\"\"Read data from metadata.xls\"\"\"\n",
    "metadata = pd.read_excel(data_dir+\"/metadata.xls\", sheetname='Sheet1')\n",
    "\n",
    "frame = []\n",
    "i = 0\n",
    "\"\"\"Read data from spreadsheets of microbiome data\"\"\"\n",
    "filesMID = gl.glob(data_dir+\"/MID\"+\"*.xls\")\n",
    "for file in filesMID:\n",
    "    dfMID = pd.read_excel(file, sheetname = 'Sheet 1', header=None,names=['Taxon', 'Count'])\n",
    "    for j in metadata.columns:\n",
    "        dfMID[j] = metadata.ix[i][j]\n",
    "    frame.append(dfMID)\n",
    "    i = i + 1;\n",
    "\n",
    "\"\"\"Set new hierachical index to identify information\"\"\"\n",
    "df = pd.concat(frame)\n",
    "df = df.set_index(['BARCODE','GROUP','SAMPLE','Taxon'])\n",
    "df"
   ]
  }
 ],
 "metadata": {
  "kernelspec": {
   "display_name": "Python 3",
   "language": "python",
   "name": "python3"
  },
  "language_info": {
   "codemirror_mode": {
    "name": "ipython",
    "version": 3
   },
   "file_extension": ".py",
   "mimetype": "text/x-python",
   "name": "python",
   "nbconvert_exporter": "python",
   "pygments_lexer": "ipython3",
   "version": "3.5.2"
  }
 },
 "nbformat": 4,
 "nbformat_minor": 1
}
